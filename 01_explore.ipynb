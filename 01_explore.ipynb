{
 "cells": [
  {
   "cell_type": "markdown",
   "metadata": {},
   "source": [
    "## imports"
   ]
  },
  {
   "cell_type": "code",
   "execution_count": 1,
   "metadata": {
    "tags": [
     "imports"
    ]
   },
   "outputs": [
    {
     "name": "stderr",
     "output_type": "stream",
     "text": [
      "/Users/randy/anaconda/envs/play/lib/python3.6/site-packages/IPython/html.py:14: ShimWarning: The `IPython.html` package has been deprecated since IPython 4.0. You should import from `notebook` instead. `IPython.html.widgets` has moved to `ipywidgets`.\n",
      "  \"`IPython.html.widgets` has moved to `ipywidgets`.\", ShimWarning)\n"
     ]
    }
   ],
   "source": [
    "import pandas as pd\n",
    "import numpy as np\n",
    "import matplotlib.pyplot as plt\n",
    "import seaborn as sns\n",
    "%matplotlib inline"
   ]
  },
  {
   "cell_type": "markdown",
   "metadata": {},
   "source": [
    "## data pull"
   ]
  },
  {
   "cell_type": "code",
   "execution_count": 2,
   "metadata": {
    "collapsed": true
   },
   "outputs": [],
   "source": [
    "# You will need access to D4D data.world organization. Check in slack for more info\n",
    "# 150mb / 240k rows. Give it time, has to download over internet\n",
    "df = pd.read_csv('https://query.data.world/s/bbokc1f08to11j19j5axvkrcv', sep='\\t', parse_dates=['date'])"
   ]
  },
  {
   "cell_type": "markdown",
   "metadata": {},
   "source": [
    "## exploring data"
   ]
  },
  {
   "cell_type": "code",
   "execution_count": 3,
   "metadata": {},
   "outputs": [
    {
     "data": {
      "text/html": [
       "<div>\n",
       "<style>\n",
       "    .dataframe thead tr:only-child th {\n",
       "        text-align: right;\n",
       "    }\n",
       "\n",
       "    .dataframe thead th {\n",
       "        text-align: left;\n",
       "    }\n",
       "\n",
       "    .dataframe tbody tr th {\n",
       "        vertical-align: top;\n",
       "    }\n",
       "</style>\n",
       "<table border=\"1\" class=\"dataframe\">\n",
       "  <thead>\n",
       "    <tr style=\"text-align: right;\">\n",
       "      <th></th>\n",
       "      <th>date</th>\n",
       "      <th>author</th>\n",
       "      <th>title</th>\n",
       "      <th>lead</th>\n",
       "      <th>category</th>\n",
       "      <th>hrefs</th>\n",
       "    </tr>\n",
       "  </thead>\n",
       "  <tbody>\n",
       "    <tr>\n",
       "      <th>0</th>\n",
       "      <td>2016-12-30 16:05:19</td>\n",
       "      <td>Pam Key</td>\n",
       "      <td>Bolton: Putin Is Smart</td>\n",
       "      <td></td>\n",
       "      <td>california</td>\n",
       "      <td>['https://twitter.com/pamkeyNEN']</td>\n",
       "    </tr>\n",
       "    <tr>\n",
       "      <th>1</th>\n",
       "      <td>2016-12-31 08:02:52</td>\n",
       "      <td>Ian Hanchett</td>\n",
       "      <td>Obama: ‘We’ve Made Extraordinary Progress’ Ove...</td>\n",
       "      <td></td>\n",
       "      <td>california</td>\n",
       "      <td>['https://twitter.com/IanHanchett']</td>\n",
       "    </tr>\n",
       "    <tr>\n",
       "      <th>2</th>\n",
       "      <td>2016-12-30 12:06:10</td>\n",
       "      <td>Ian Hanchett</td>\n",
       "      <td>Dem Rep Schiff: Obama Waited Too Long to Take ...</td>\n",
       "      <td></td>\n",
       "      <td>california</td>\n",
       "      <td>['https://grabien.com/story.php?id=80835', 'ht...</td>\n",
       "    </tr>\n",
       "    <tr>\n",
       "      <th>3</th>\n",
       "      <td>2016-12-27 13:08:19</td>\n",
       "      <td>Adelle Nazarian</td>\n",
       "      <td>CA Universities Named Among ‘Worst Colleges fo...</td>\n",
       "      <td>Nine out of the 40 colleges named in a Jewish ...</td>\n",
       "      <td>california</td>\n",
       "      <td>['https://www.algemeiner.com/the-40-worst-coll...</td>\n",
       "    </tr>\n",
       "    <tr>\n",
       "      <th>4</th>\n",
       "      <td>2016-12-28 05:59:27</td>\n",
       "      <td>Joel B. Pollak</td>\n",
       "      <td>Water-Starved Central Valley Says ‘Good Riddan...</td>\n",
       "      <td>Sen. Barbara Boxer (D-CA) is retiring after 24...</td>\n",
       "      <td>california</td>\n",
       "      <td>['http://www.fresnobee.com/news/politics-gover...</td>\n",
       "    </tr>\n",
       "  </tbody>\n",
       "</table>\n",
       "</div>"
      ],
      "text/plain": [
       "                 date           author  \\\n",
       "0 2016-12-30 16:05:19          Pam Key   \n",
       "1 2016-12-31 08:02:52     Ian Hanchett   \n",
       "2 2016-12-30 12:06:10     Ian Hanchett   \n",
       "3 2016-12-27 13:08:19  Adelle Nazarian   \n",
       "4 2016-12-28 05:59:27   Joel B. Pollak   \n",
       "\n",
       "                                               title  \\\n",
       "0                             Bolton: Putin Is Smart   \n",
       "1  Obama: ‘We’ve Made Extraordinary Progress’ Ove...   \n",
       "2  Dem Rep Schiff: Obama Waited Too Long to Take ...   \n",
       "3  CA Universities Named Among ‘Worst Colleges fo...   \n",
       "4  Water-Starved Central Valley Says ‘Good Riddan...   \n",
       "\n",
       "                                                lead    category  \\\n",
       "0                                                     california   \n",
       "1                                                     california   \n",
       "2                                                     california   \n",
       "3  Nine out of the 40 colleges named in a Jewish ...  california   \n",
       "4  Sen. Barbara Boxer (D-CA) is retiring after 24...  california   \n",
       "\n",
       "                                               hrefs  \n",
       "0                  ['https://twitter.com/pamkeyNEN']  \n",
       "1                ['https://twitter.com/IanHanchett']  \n",
       "2  ['https://grabien.com/story.php?id=80835', 'ht...  \n",
       "3  ['https://www.algemeiner.com/the-40-worst-coll...  \n",
       "4  ['http://www.fresnobee.com/news/politics-gover...  "
      ]
     },
     "execution_count": 3,
     "metadata": {},
     "output_type": "execute_result"
    }
   ],
   "source": [
    "df.head()"
   ]
  },
  {
   "cell_type": "code",
   "execution_count": 4,
   "metadata": {
    "collapsed": true
   },
   "outputs": [],
   "source": [
    "df_sample = df.copy().head(10000)"
   ]
  },
  {
   "cell_type": "code",
   "execution_count": 5,
   "metadata": {},
   "outputs": [
    {
     "data": {
      "text/plain": [
       "date                                      2016-12-29 00:01:14\n",
       "author                               Assemblyman Tim Donnelly\n",
       "title        Top 10 Stupidest New Laws in California for 2017\n",
       "lead        I’m not in the habit of complaining at the out...\n",
       "category                                           california\n",
       "hrefs       ['http://mynewsla.com/government/2016/12/27/ce...\n",
       "Name: 10, dtype: object"
      ]
     },
     "execution_count": 5,
     "metadata": {},
     "output_type": "execute_result"
    }
   ],
   "source": [
    "df_sample.iloc[10,:]"
   ]
  },
  {
   "cell_type": "markdown",
   "metadata": {},
   "source": [
    "### 1. Generate word counts in article leads across the whole datasets (filtering stopwords)\n"
   ]
  },
  {
   "cell_type": "code",
   "execution_count": 6,
   "metadata": {},
   "outputs": [
    {
     "name": "stdout",
     "output_type": "stream",
     "text": [
      "removing collection member with no package: panlex_lite\n",
      "[nltk_data] Downloading package stopwords to /Users/randy/nltk_data...\n",
      "[nltk_data]   Package stopwords is already up-to-date!\n"
     ]
    },
    {
     "data": {
      "text/plain": [
       "True"
      ]
     },
     "execution_count": 6,
     "metadata": {},
     "output_type": "execute_result"
    }
   ],
   "source": [
    "from nltk.corpus import stopwords\n",
    "from nltk import download\n",
    "download(\"stopwords\")"
   ]
  },
  {
   "cell_type": "code",
   "execution_count": 7,
   "metadata": {
    "collapsed": true
   },
   "outputs": [],
   "source": [
    "stop_word_set = set(stopwords.words('english'))"
   ]
  },
  {
   "cell_type": "code",
   "execution_count": 8,
   "metadata": {
    "collapsed": true
   },
   "outputs": [],
   "source": [
    "# create a test lead and test word to try out a solution\n",
    "test_lead = df_sample.loc[10,'lead']\n",
    "test_array = np.array(test_lead.split())\n"
   ]
  },
  {
   "cell_type": "code",
   "execution_count": 9,
   "metadata": {},
   "outputs": [
    {
     "name": "stdout",
     "output_type": "stream",
     "text": [
      "{'very', 'ain', 'how', 'does', 'doing', 'haven', 'did', 'yourself', 'herself', 'through', 'more', 'an', 'who', 'your', 'should', 'needn', 'we', 'being', 'from', 'wasn', 'all', 'my', 'but', 'yourselves', 'now', 'couldn', 'didn', 'm', 'mustn', 'don', 'that', 'most', 'up', 'further', 'shouldn', 'won', 'y', 'their', 'can', 'so', 'they', 'me', 'nor', 'if', 'she', 'against', 'own', 'at', 'themselves', 'here', 'few', 's', 'isn', 'he', 'both', 'out', 'into', 'hasn', 'hers', 'its', 'to', 'am', 'myself', 'yours', 're', 'this', 'you', 'by', 'her', 'only', 'just', 'in', 'each', 'theirs', 'a', 'with', 'down', 'no', 'once', 'as', 'were', 'until', 'there', 'hadn', 'do', 'and', 'd', 'itself', 'what', 'wouldn', 'which', 'whom', 'or', 'o', 'about', 'under', 've', 'ma', 'his', 'himself', 'been', 'below', 'between', 'any', 'them', 'had', 'for', 'mightn', 'on', 'was', 'because', 'above', 'be', 'such', 'some', 'the', 'before', 'over', 'shan', 'have', 'it', 'same', 'too', 'why', 'ourselves', 'not', 'weren', 'having', 't', 'is', 'has', 'are', 'ours', 'him', 'of', 'during', 'these', 'll', 'aren', 'off', 'again', 'then', 'our', 'i', 'while', 'where', 'than', 'those', 'when', 'doesn', 'other', 'after', 'will'}\n"
     ]
    }
   ],
   "source": [
    "print(stop_word_set)"
   ]
  },
  {
   "cell_type": "code",
   "execution_count": 10,
   "metadata": {},
   "outputs": [
    {
     "name": "stdout",
     "output_type": "stream",
     "text": [
      "I’m \t\t\t False\n",
      "not \t\t\t True\n",
      "in \t\t\t True\n",
      "the \t\t\t True\n",
      "habit \t\t\t False\n",
      "of \t\t\t True\n",
      "complaining \t\t\t False\n",
      "at \t\t\t True\n",
      "the \t\t\t True\n",
      "outset \t\t\t False\n",
      "of \t\t\t True\n",
      "a \t\t\t True\n",
      "column, \t\t\t False\n",
      "but \t\t\t True\n",
      "I’ve \t\t\t False\n",
      "taken \t\t\t False\n",
      "on \t\t\t True\n",
      "a \t\t\t True\n",
      "nearly \t\t\t False\n",
      "impossible \t\t\t False\n",
      "task \t\t\t False\n",
      "— \t\t\t False\n",
      "figuring \t\t\t False\n",
      "out \t\t\t True\n",
      "which, \t\t\t False\n",
      "of \t\t\t True\n",
      "the \t\t\t True\n",
      "hundreds \t\t\t False\n",
      "of \t\t\t True\n",
      "new \t\t\t False\n",
      "California \t\t\t False\n",
      "laws \t\t\t False\n",
      "about \t\t\t True\n",
      "to \t\t\t True\n",
      "go \t\t\t False\n",
      "into \t\t\t True\n",
      "effect, \t\t\t False\n",
      "are \t\t\t True\n",
      "the \t\t\t True\n",
      "stupidest. \t\t\t False\n"
     ]
    }
   ],
   "source": [
    "for word in test_array:\n",
    "    print(\"{} \\t\\t\\t {}\".format(word, word in stop_word_set))"
   ]
  },
  {
   "cell_type": "code",
   "execution_count": 11,
   "metadata": {},
   "outputs": [
    {
     "name": "stdout",
     "output_type": "stream",
     "text": [
      "CPU times: user 1.1 ms, sys: 643 µs, total: 1.75 ms\n",
      "Wall time: 4.06 ms\n"
     ]
    },
    {
     "data": {
      "text/plain": [
       "array([False,  True,  True,  True, False,  True, False,  True,  True,\n",
       "       False,  True,  True, False,  True, False, False,  True,  True,\n",
       "       False, False, False, False, False,  True, False,  True,  True,\n",
       "       False,  True, False, False, False,  True,  True, False,  True,\n",
       "       False,  True,  True, False], dtype=bool)"
      ]
     },
     "execution_count": 11,
     "metadata": {},
     "output_type": "execute_result"
    }
   ],
   "source": [
    "%%time \n",
    "np.in1d(test_array, stopwords.words('english'))"
   ]
  },
  {
   "cell_type": "code",
   "execution_count": 12,
   "metadata": {},
   "outputs": [
    {
     "name": "stdout",
     "output_type": "stream",
     "text": [
      "CPU times: user 81 µs, sys: 13 µs, total: 94 µs\n",
      "Wall time: 98 µs\n"
     ]
    },
    {
     "data": {
      "text/plain": [
       "array([False, False, False, False, False, False, False, False, False,\n",
       "       False, False, False, False, False, False, False, False, False,\n",
       "       False, False, False, False, False, False, False, False, False,\n",
       "       False, False, False, False, False, False, False, False, False,\n",
       "       False, False, False, False], dtype=bool)"
      ]
     },
     "execution_count": 12,
     "metadata": {},
     "output_type": "execute_result"
    }
   ],
   "source": [
    "%%time \n",
    "np.in1d(test_array, stop_word_set)"
   ]
  },
  {
   "cell_type": "code",
   "execution_count": 13,
   "metadata": {},
   "outputs": [
    {
     "data": {
      "text/plain": [
       "20"
      ]
     },
     "execution_count": 13,
     "metadata": {},
     "output_type": "execute_result"
    }
   ],
   "source": [
    "sum(np.in1d(test_array, stopwords.words('english')))"
   ]
  },
  {
   "cell_type": "code",
   "execution_count": 15,
   "metadata": {},
   "outputs": [
    {
     "data": {
      "text/plain": [
       "0"
      ]
     },
     "execution_count": 15,
     "metadata": {},
     "output_type": "execute_result"
    }
   ],
   "source": [
    "sum(np.in1d(test_array, stop_word_set))"
   ]
  },
  {
   "cell_type": "code",
   "execution_count": 30,
   "metadata": {
    "collapsed": true
   },
   "outputs": [],
   "source": [
    "## create a function\n",
    "\n",
    "def wd_ct(lead):\n",
    "    lead_array = np.array(lead.split())\n",
    "    #print(lead_array)\n",
    "#    stop_word_set = set(stopwords.words('english'))\n",
    "    wd_ct_wo_stopwords = sum(np.in1d(lead_array, stopwords.words('english')))\n",
    "    return(wd_ct_wo_stopwords)\n",
    "\n",
    "\n",
    "def wd_ct_new(lead):\n",
    "    stop_word_set = set(stopwords.words('english'))\n",
    "    return sum([word in stop_word_set for word in lead.split()])\n",
    "\n",
    "def test_func(int_val):\n",
    "    return int_val+3\n",
    "\n"
   ]
  },
  {
   "cell_type": "code",
   "execution_count": 31,
   "metadata": {
    "collapsed": true
   },
   "outputs": [],
   "source": [
    "a = 'the barn door'"
   ]
  },
  {
   "cell_type": "code",
   "execution_count": 32,
   "metadata": {},
   "outputs": [
    {
     "data": {
      "text/plain": [
       "'I’m not in the habit of complaining at the outset of a column, but I’ve taken on a nearly impossible task — figuring out which, of the hundreds of new California laws about to go into effect, are the stupidest.'"
      ]
     },
     "execution_count": 32,
     "metadata": {},
     "output_type": "execute_result"
    }
   ],
   "source": [
    "test_lead"
   ]
  },
  {
   "cell_type": "code",
   "execution_count": 36,
   "metadata": {},
   "outputs": [
    {
     "name": "stdout",
     "output_type": "stream",
     "text": [
      "672 µs ± 264 µs per loop (mean ± std. dev. of 7 runs, 1000 loops each)\n"
     ]
    }
   ],
   "source": [
    "%%timeit\n",
    "wd_ct(test_lead)"
   ]
  },
  {
   "cell_type": "code",
   "execution_count": 38,
   "metadata": {},
   "outputs": [
    {
     "name": "stdout",
     "output_type": "stream",
     "text": [
      "350 µs ± 60.1 µs per loop (mean ± std. dev. of 7 runs, 1000 loops each)\n"
     ]
    }
   ],
   "source": [
    "%%timeit\n",
    "wd_ct_new(test_lead)"
   ]
  },
  {
   "cell_type": "markdown",
   "metadata": {},
   "source": [
    "## use apply function for DF\n"
   ]
  },
  {
   "cell_type": "code",
   "execution_count": 39,
   "metadata": {
    "collapsed": true
   },
   "outputs": [],
   "source": [
    "df_sample['wd_ct_nostop'] = df_sample['lead'].apply(wd_ct)"
   ]
  },
  {
   "cell_type": "code",
   "execution_count": 40,
   "metadata": {},
   "outputs": [
    {
     "data": {
      "text/html": [
       "<div>\n",
       "<style>\n",
       "    .dataframe thead tr:only-child th {\n",
       "        text-align: right;\n",
       "    }\n",
       "\n",
       "    .dataframe thead th {\n",
       "        text-align: left;\n",
       "    }\n",
       "\n",
       "    .dataframe tbody tr th {\n",
       "        vertical-align: top;\n",
       "    }\n",
       "</style>\n",
       "<table border=\"1\" class=\"dataframe\">\n",
       "  <thead>\n",
       "    <tr style=\"text-align: right;\">\n",
       "      <th></th>\n",
       "      <th>date</th>\n",
       "      <th>author</th>\n",
       "      <th>title</th>\n",
       "      <th>lead</th>\n",
       "      <th>category</th>\n",
       "      <th>hrefs</th>\n",
       "      <th>wd_ct_nostop</th>\n",
       "    </tr>\n",
       "  </thead>\n",
       "  <tbody>\n",
       "    <tr>\n",
       "      <th>0</th>\n",
       "      <td>2016-12-30 16:05:19</td>\n",
       "      <td>Pam Key</td>\n",
       "      <td>Bolton: Putin Is Smart</td>\n",
       "      <td></td>\n",
       "      <td>california</td>\n",
       "      <td>['https://twitter.com/pamkeyNEN']</td>\n",
       "      <td>0</td>\n",
       "    </tr>\n",
       "    <tr>\n",
       "      <th>1</th>\n",
       "      <td>2016-12-31 08:02:52</td>\n",
       "      <td>Ian Hanchett</td>\n",
       "      <td>Obama: ‘We’ve Made Extraordinary Progress’ Ove...</td>\n",
       "      <td></td>\n",
       "      <td>california</td>\n",
       "      <td>['https://twitter.com/IanHanchett']</td>\n",
       "      <td>0</td>\n",
       "    </tr>\n",
       "    <tr>\n",
       "      <th>2</th>\n",
       "      <td>2016-12-30 12:06:10</td>\n",
       "      <td>Ian Hanchett</td>\n",
       "      <td>Dem Rep Schiff: Obama Waited Too Long to Take ...</td>\n",
       "      <td></td>\n",
       "      <td>california</td>\n",
       "      <td>['https://grabien.com/story.php?id=80835', 'ht...</td>\n",
       "      <td>0</td>\n",
       "    </tr>\n",
       "    <tr>\n",
       "      <th>3</th>\n",
       "      <td>2016-12-27 13:08:19</td>\n",
       "      <td>Adelle Nazarian</td>\n",
       "      <td>CA Universities Named Among ‘Worst Colleges fo...</td>\n",
       "      <td>Nine out of the 40 colleges named in a Jewish ...</td>\n",
       "      <td>california</td>\n",
       "      <td>['https://www.algemeiner.com/the-40-worst-coll...</td>\n",
       "      <td>12</td>\n",
       "    </tr>\n",
       "    <tr>\n",
       "      <th>4</th>\n",
       "      <td>2016-12-28 05:59:27</td>\n",
       "      <td>Joel B. Pollak</td>\n",
       "      <td>Water-Starved Central Valley Says ‘Good Riddan...</td>\n",
       "      <td>Sen. Barbara Boxer (D-CA) is retiring after 24...</td>\n",
       "      <td>california</td>\n",
       "      <td>['http://www.fresnobee.com/news/politics-gover...</td>\n",
       "      <td>17</td>\n",
       "    </tr>\n",
       "  </tbody>\n",
       "</table>\n",
       "</div>"
      ],
      "text/plain": [
       "                 date           author  \\\n",
       "0 2016-12-30 16:05:19          Pam Key   \n",
       "1 2016-12-31 08:02:52     Ian Hanchett   \n",
       "2 2016-12-30 12:06:10     Ian Hanchett   \n",
       "3 2016-12-27 13:08:19  Adelle Nazarian   \n",
       "4 2016-12-28 05:59:27   Joel B. Pollak   \n",
       "\n",
       "                                               title  \\\n",
       "0                             Bolton: Putin Is Smart   \n",
       "1  Obama: ‘We’ve Made Extraordinary Progress’ Ove...   \n",
       "2  Dem Rep Schiff: Obama Waited Too Long to Take ...   \n",
       "3  CA Universities Named Among ‘Worst Colleges fo...   \n",
       "4  Water-Starved Central Valley Says ‘Good Riddan...   \n",
       "\n",
       "                                                lead    category  \\\n",
       "0                                                     california   \n",
       "1                                                     california   \n",
       "2                                                     california   \n",
       "3  Nine out of the 40 colleges named in a Jewish ...  california   \n",
       "4  Sen. Barbara Boxer (D-CA) is retiring after 24...  california   \n",
       "\n",
       "                                               hrefs  wd_ct_nostop  \n",
       "0                  ['https://twitter.com/pamkeyNEN']             0  \n",
       "1                ['https://twitter.com/IanHanchett']             0  \n",
       "2  ['https://grabien.com/story.php?id=80835', 'ht...             0  \n",
       "3  ['https://www.algemeiner.com/the-40-worst-coll...            12  \n",
       "4  ['http://www.fresnobee.com/news/politics-gover...            17  "
      ]
     },
     "execution_count": 40,
     "metadata": {},
     "output_type": "execute_result"
    }
   ],
   "source": [
    "df_sample.head()"
   ]
  },
  {
   "cell_type": "code",
   "execution_count": 41,
   "metadata": {},
   "outputs": [
    {
     "data": {
      "text/plain": [
       "Adelle Nazarian     1549\n",
       "Joel B. Pollak      1339\n",
       "Chriss W. Street    1207\n",
       "William Bigelow     1200\n",
       "Michelle Moons       976\n",
       "Name: author, dtype: int64"
      ]
     },
     "execution_count": 41,
     "metadata": {},
     "output_type": "execute_result"
    }
   ],
   "source": [
    "# most frequent authors\n",
    "df_sample['author'].value_counts().head()"
   ]
  },
  {
   "cell_type": "code",
   "execution_count": 42,
   "metadata": {
    "tags": [
     "plot"
    ]
   },
   "outputs": [
    {
     "data": {
      "image/png": "[encoded data removed]",
      "text/plain": [
       "<matplotlib.figure.Figure at 0x117732f28>"
      ]
     },
     "metadata": {},
     "output_type": "display_data"
    }
   ],
   "source": [
    "plt.figure(figsize=(16,6))\n",
    "sns.distplot(df_sample['wd_ct_nostop'], hist=False, rug=True);"
   ]
  },
  {
   "cell_type": "code",
   "execution_count": 43,
   "metadata": {
    "tags": [
     "plot"
    ]
   },
   "outputs": [
    {
     "data": {
      "image/png": "[encoded data removed]",
      "text/plain": [
       "<matplotlib.figure.Figure at 0x127cb6128>"
      ]
     },
     "metadata": {},
     "output_type": "display_data"
    }
   ],
   "source": [
    "plt.figure(figsize=(16,6))\n",
    "plt.hist(df_sample['wd_ct_nostop'], bins=[0,5,10,15,20,25,30,35])\n",
    "plt.show()"
   ]
  },
  {
   "cell_type": "code",
   "execution_count": 45,
   "metadata": {
    "tags": [
     "plot"
    ]
   },
   "outputs": [
    {
     "data": {
      "image/png": "[encoded data removed]",
      "text/plain": [
       "<matplotlib.figure.Figure at 0x128b46978>"
      ]
     },
     "metadata": {},
     "output_type": "display_data"
    }
   ],
   "source": [
    "plt.figure(figsize=(16,6))\n",
    "plt.hist(df_sample[df_sample['author'] == 'Adelle Nazarian']['wd_ct_nostop'], bins=[0,5,10,15,20,25,30,35], color='blue', alpha=.3, label='Adelle Nazarian')\n",
    "plt.hist(df_sample[df_sample['author'] == 'Joel B. Pollak']['wd_ct_nostop'], bins=[0,5,10,15,20,25,30,35], color='red', alpha=.3, label='Joel B. Pollak')\n",
    "plt.hist(df_sample[df_sample['author'] == 'Chriss W. Street']['wd_ct_nostop'], bins=[0,5,10,15,20,25,30,35], color='green', alpha=.3, label='Chriss W. Street')\n",
    "plt.hist(df_sample[df_sample['author'] == 'William Bigelow']['wd_ct_nostop'], bins=[0,5,10,15,20,25,30,35], color='black', alpha=.3, label='William Bigelow')\n",
    "plt.legend()\n",
    "plt.title('Dist of 4 most frequent authors lead word count')\n",
    "plt.show()"
   ]
  },
  {
   "cell_type": "code",
   "execution_count": 46,
   "metadata": {
    "tags": [
     "plot"
    ]
   },
   "outputs": [
    {
     "data": {
      "image/png": "[encoded data removed]",
      "text/plain": [
       "<matplotlib.figure.Figure at 0x128d134a8>"
      ]
     },
     "metadata": {},
     "output_type": "display_data"
    }
   ],
   "source": [
    "plt.figure(figsize=(16,6))\n",
    "plt.hist(df_sample['wd_ct_nostop'], bins=[0,5,10,15,20,25,30,35], color='black', alpha=.7, label='All authors', normed=True)\n",
    "\n",
    "\n",
    "plt.hist(df_sample[df_sample['author'] == 'Adelle Nazarian']['wd_ct_nostop'], bins=[0,5,10,15,20,25,30,35], color='blue', alpha=.2, label='Adelle Nazarian', normed=True)\n",
    "plt.hist(df_sample[df_sample['author'] == 'Joel B. Pollak']['wd_ct_nostop'], bins=[0,5,10,15,20,25,30,35], color='red', alpha=.2, label='Joel B. Pollak', normed=True)\n",
    "plt.hist(df_sample[df_sample['author'] == 'Chriss W. Street']['wd_ct_nostop'], bins=[0,5,10,15,20,25,30,35], color='green', alpha=.2, label='Chriss W. Street', normed=True)\n",
    "plt.hist(df_sample[df_sample['author'] == 'William Bigelow']['wd_ct_nostop'], bins=[0,5,10,15,20,25,30,35], color='black', alpha=.2, label='William Bigelow', normed=True)\n",
    "plt.legend()\n",
    "plt.title('Dist of 4 most frequent authors lead word count as pct dist')\n",
    "plt.show()"
   ]
  },
  {
   "cell_type": "code",
   "execution_count": 47,
   "metadata": {},
   "outputs": [
    {
     "ename": "SyntaxError",
     "evalue": "invalid syntax (<ipython-input-47-e86018399abe>, line 2)",
     "output_type": "error",
     "traceback": [
      "\u001b[0;36m  File \u001b[0;32m\"<ipython-input-47-e86018399abe>\"\u001b[0;36m, line \u001b[0;32m2\u001b[0m\n\u001b[0;31m    plt.hist(df_sample[]['wd_ct_nostop'], bins=[0,5,10,15,20,25,30,35])\u001b[0m\n\u001b[0m                       ^\u001b[0m\n\u001b[0;31mSyntaxError\u001b[0m\u001b[0;31m:\u001b[0m invalid syntax\n"
     ]
    }
   ],
   "source": [
    "plt.figure(figsize=(16,6))\n",
    "plt.hist(df_sample[]['wd_ct_nostop'], bins=[0,5,10,15,20,25,30,35])\n",
    "plt.show()"
   ]
  },
  {
   "cell_type": "markdown",
   "metadata": {},
   "source": [
    "#### 1b. Generate word counts (and/or tf-idf) for article leads sorted by category"
   ]
  },
  {
   "cell_type": "code",
   "execution_count": 48,
   "metadata": {},
   "outputs": [
    {
     "data": {
      "text/html": [
       "<div>\n",
       "<style>\n",
       "    .dataframe thead tr:only-child th {\n",
       "        text-align: right;\n",
       "    }\n",
       "\n",
       "    .dataframe thead th {\n",
       "        text-align: left;\n",
       "    }\n",
       "\n",
       "    .dataframe tbody tr th {\n",
       "        vertical-align: top;\n",
       "    }\n",
       "</style>\n",
       "<table border=\"1\" class=\"dataframe\">\n",
       "  <thead>\n",
       "    <tr style=\"text-align: right;\">\n",
       "      <th></th>\n",
       "      <th>date</th>\n",
       "      <th>author</th>\n",
       "      <th>title</th>\n",
       "      <th>lead</th>\n",
       "      <th>category</th>\n",
       "      <th>hrefs</th>\n",
       "      <th>wd_ct_nostop</th>\n",
       "    </tr>\n",
       "  </thead>\n",
       "  <tbody>\n",
       "    <tr>\n",
       "      <th>0</th>\n",
       "      <td>2016-12-30 16:05:19</td>\n",
       "      <td>Pam Key</td>\n",
       "      <td>Bolton: Putin Is Smart</td>\n",
       "      <td></td>\n",
       "      <td>california</td>\n",
       "      <td>['https://twitter.com/pamkeyNEN']</td>\n",
       "      <td>0</td>\n",
       "    </tr>\n",
       "    <tr>\n",
       "      <th>1</th>\n",
       "      <td>2016-12-31 08:02:52</td>\n",
       "      <td>Ian Hanchett</td>\n",
       "      <td>Obama: ‘We’ve Made Extraordinary Progress’ Ove...</td>\n",
       "      <td></td>\n",
       "      <td>california</td>\n",
       "      <td>['https://twitter.com/IanHanchett']</td>\n",
       "      <td>0</td>\n",
       "    </tr>\n",
       "    <tr>\n",
       "      <th>2</th>\n",
       "      <td>2016-12-30 12:06:10</td>\n",
       "      <td>Ian Hanchett</td>\n",
       "      <td>Dem Rep Schiff: Obama Waited Too Long to Take ...</td>\n",
       "      <td></td>\n",
       "      <td>california</td>\n",
       "      <td>['https://grabien.com/story.php?id=80835', 'ht...</td>\n",
       "      <td>0</td>\n",
       "    </tr>\n",
       "    <tr>\n",
       "      <th>3</th>\n",
       "      <td>2016-12-27 13:08:19</td>\n",
       "      <td>Adelle Nazarian</td>\n",
       "      <td>CA Universities Named Among ‘Worst Colleges fo...</td>\n",
       "      <td>Nine out of the 40 colleges named in a Jewish ...</td>\n",
       "      <td>california</td>\n",
       "      <td>['https://www.algemeiner.com/the-40-worst-coll...</td>\n",
       "      <td>12</td>\n",
       "    </tr>\n",
       "    <tr>\n",
       "      <th>4</th>\n",
       "      <td>2016-12-28 05:59:27</td>\n",
       "      <td>Joel B. Pollak</td>\n",
       "      <td>Water-Starved Central Valley Says ‘Good Riddan...</td>\n",
       "      <td>Sen. Barbara Boxer (D-CA) is retiring after 24...</td>\n",
       "      <td>california</td>\n",
       "      <td>['http://www.fresnobee.com/news/politics-gover...</td>\n",
       "      <td>17</td>\n",
       "    </tr>\n",
       "  </tbody>\n",
       "</table>\n",
       "</div>"
      ],
      "text/plain": [
       "                 date           author  \\\n",
       "0 2016-12-30 16:05:19          Pam Key   \n",
       "1 2016-12-31 08:02:52     Ian Hanchett   \n",
       "2 2016-12-30 12:06:10     Ian Hanchett   \n",
       "3 2016-12-27 13:08:19  Adelle Nazarian   \n",
       "4 2016-12-28 05:59:27   Joel B. Pollak   \n",
       "\n",
       "                                               title  \\\n",
       "0                             Bolton: Putin Is Smart   \n",
       "1  Obama: ‘We’ve Made Extraordinary Progress’ Ove...   \n",
       "2  Dem Rep Schiff: Obama Waited Too Long to Take ...   \n",
       "3  CA Universities Named Among ‘Worst Colleges fo...   \n",
       "4  Water-Starved Central Valley Says ‘Good Riddan...   \n",
       "\n",
       "                                                lead    category  \\\n",
       "0                                                     california   \n",
       "1                                                     california   \n",
       "2                                                     california   \n",
       "3  Nine out of the 40 colleges named in a Jewish ...  california   \n",
       "4  Sen. Barbara Boxer (D-CA) is retiring after 24...  california   \n",
       "\n",
       "                                               hrefs  wd_ct_nostop  \n",
       "0                  ['https://twitter.com/pamkeyNEN']             0  \n",
       "1                ['https://twitter.com/IanHanchett']             0  \n",
       "2  ['https://grabien.com/story.php?id=80835', 'ht...             0  \n",
       "3  ['https://www.algemeiner.com/the-40-worst-coll...            12  \n",
       "4  ['http://www.fresnobee.com/news/politics-gover...            17  "
      ]
     },
     "execution_count": 48,
     "metadata": {},
     "output_type": "execute_result"
    }
   ],
   "source": [
    "df_sample.head()"
   ]
  },
  {
   "cell_type": "code",
   "execution_count": 49,
   "metadata": {},
   "outputs": [
    {
     "data": {
      "text/plain": [
       "(241677, 6)"
      ]
     },
     "execution_count": 49,
     "metadata": {},
     "output_type": "execute_result"
    }
   ],
   "source": [
    "df.shape"
   ]
  },
  {
   "cell_type": "code",
   "execution_count": 50,
   "metadata": {
    "collapsed": true
   },
   "outputs": [],
   "source": [
    "df['wd_ct_nostop'] = df['lead'].apply(wd_ct)\n"
   ]
  },
  {
   "cell_type": "code",
   "execution_count": null,
   "metadata": {
    "collapsed": true
   },
   "outputs": [],
   "source": []
  },
  {
   "cell_type": "code",
   "execution_count": 51,
   "metadata": {},
   "outputs": [
    {
     "name": "stdout",
     "output_type": "stream",
     "text": [
      "1min 58s ± 9.47 s per loop (mean ± std. dev. of 7 runs, 1 loop each)\n"
     ]
    }
   ],
   "source": [
    "%%timeit\n",
    "df['wd_ct_nostop'] = df['lead'].apply(wd_ct)\n"
   ]
  },
  {
   "cell_type": "code",
   "execution_count": 52,
   "metadata": {},
   "outputs": [
    {
     "name": "stdout",
     "output_type": "stream",
     "text": [
      "58.5 s ± 4.49 s per loop (mean ± std. dev. of 7 runs, 1 loop each)\n"
     ]
    }
   ],
   "source": [
    "%%timeit\n",
    "df['wd_ct_nostop'] = df['lead'].apply(wd_ct_new)\n",
    "\n"
   ]
  },
  {
   "cell_type": "code",
   "execution_count": 53,
   "metadata": {},
   "outputs": [
    {
     "data": {
      "text/html": [
       "<div>\n",
       "<style>\n",
       "    .dataframe thead tr:only-child th {\n",
       "        text-align: right;\n",
       "    }\n",
       "\n",
       "    .dataframe thead th {\n",
       "        text-align: left;\n",
       "    }\n",
       "\n",
       "    .dataframe tbody tr th {\n",
       "        vertical-align: top;\n",
       "    }\n",
       "</style>\n",
       "<table border=\"1\" class=\"dataframe\">\n",
       "  <thead>\n",
       "    <tr style=\"text-align: right;\">\n",
       "      <th></th>\n",
       "      <th>date</th>\n",
       "      <th>author</th>\n",
       "      <th>title</th>\n",
       "      <th>lead</th>\n",
       "      <th>category</th>\n",
       "      <th>hrefs</th>\n",
       "      <th>wd_ct_nostop</th>\n",
       "    </tr>\n",
       "  </thead>\n",
       "  <tbody>\n",
       "    <tr>\n",
       "      <th>241577</th>\n",
       "      <td>2016-12-08 15:36:22</td>\n",
       "      <td>Trent Baker</td>\n",
       "      <td>ESPN’s Jemele Hill: Trump Should Denounce Raci...</td>\n",
       "      <td></td>\n",
       "      <td>videos</td>\n",
       "      <td>['http://www.breitbart.com/video/2016/12/08/nf...</td>\n",
       "      <td>0</td>\n",
       "    </tr>\n",
       "    <tr>\n",
       "      <th>241578</th>\n",
       "      <td>2016-12-09 16:46:00</td>\n",
       "      <td>Ian Hanchett</td>\n",
       "      <td>Krauthammer: ‘There Isn’t a Lot of Consistency...</td>\n",
       "      <td></td>\n",
       "      <td>videos</td>\n",
       "      <td>['https://twitter.com/IanHanchett']</td>\n",
       "      <td>0</td>\n",
       "    </tr>\n",
       "    <tr>\n",
       "      <th>241579</th>\n",
       "      <td>2016-12-09 21:53:49</td>\n",
       "      <td>Jeff Poor</td>\n",
       "      <td>Chris Wallace on Trump: ‘He Is Kind of the Com...</td>\n",
       "      <td></td>\n",
       "      <td>videos</td>\n",
       "      <td>['http://www.realclearpolitics.com/video/2016/...</td>\n",
       "      <td>0</td>\n",
       "    </tr>\n",
       "    <tr>\n",
       "      <th>241580</th>\n",
       "      <td>2016-12-10 06:58:11</td>\n",
       "      <td>Ian Hanchett</td>\n",
       "      <td>GOP Rep Upton: 21st Century Cures Act ‘Once-in...</td>\n",
       "      <td></td>\n",
       "      <td>videos</td>\n",
       "      <td>['https://twitter.com/IanHanchett']</td>\n",
       "      <td>0</td>\n",
       "    </tr>\n",
       "    <tr>\n",
       "      <th>241581</th>\n",
       "      <td>2016-12-10 06:58:28</td>\n",
       "      <td>Ian Hanchett</td>\n",
       "      <td>Obama: Judge Obamacare Replacements By ‘Whethe...</td>\n",
       "      <td></td>\n",
       "      <td>videos</td>\n",
       "      <td>['https://twitter.com/IanHanchett']</td>\n",
       "      <td>0</td>\n",
       "    </tr>\n",
       "    <tr>\n",
       "      <th>241582</th>\n",
       "      <td>2016-12-10 07:15:32</td>\n",
       "      <td>Chris Tomlinson</td>\n",
       "      <td>WATCH: 400 Migrants Storm Spanish Enclave in N...</td>\n",
       "      <td>Around 400 migrants stormed the 20-foot high b...</td>\n",
       "      <td>videos</td>\n",
       "      <td>['http://elfarodeceuta.es/2016/12/09/entrada-c...</td>\n",
       "      <td>8</td>\n",
       "    </tr>\n",
       "    <tr>\n",
       "      <th>241583</th>\n",
       "      <td>2016-12-10 07:29:39</td>\n",
       "      <td>Ian Hanchett</td>\n",
       "      <td>Reid: Comey ‘The New J. Edgar Hoover,’ Helped ...</td>\n",
       "      <td></td>\n",
       "      <td>videos</td>\n",
       "      <td>['https://twitter.com/IanHanchett']</td>\n",
       "      <td>0</td>\n",
       "    </tr>\n",
       "    <tr>\n",
       "      <th>241584</th>\n",
       "      <td>2016-12-11 08:24:19</td>\n",
       "      <td>Pam Key</td>\n",
       "      <td>Trump: I’d ‘Love’ to Have Ivanka, Jared Kushne...</td>\n",
       "      <td></td>\n",
       "      <td>videos</td>\n",
       "      <td>['http://thehill.com/homenews/administration/3...</td>\n",
       "      <td>0</td>\n",
       "    </tr>\n",
       "    <tr>\n",
       "      <th>241585</th>\n",
       "      <td>2016-12-11 09:12:18</td>\n",
       "      <td>Pam Key</td>\n",
       "      <td>McCain Calls for Select Committee Investigatio...</td>\n",
       "      <td></td>\n",
       "      <td>videos</td>\n",
       "      <td>['https://twitter.com/pamkeyNEN']</td>\n",
       "      <td>0</td>\n",
       "    </tr>\n",
       "    <tr>\n",
       "      <th>241586</th>\n",
       "      <td>2016-12-11 09:19:37</td>\n",
       "      <td>Pam Key</td>\n",
       "      <td>Conway: Conclusion Russia Was Acting to Help T...</td>\n",
       "      <td></td>\n",
       "      <td>videos</td>\n",
       "      <td>['http://www.breitbart.com/video/2016/12/11/tr...</td>\n",
       "      <td>0</td>\n",
       "    </tr>\n",
       "    <tr>\n",
       "      <th>241587</th>\n",
       "      <td>2016-12-11 10:08:49</td>\n",
       "      <td>Pam Key</td>\n",
       "      <td>Biden: Trump Ran ‘Most Vicious,’ ‘Craziest’ Ca...</td>\n",
       "      <td></td>\n",
       "      <td>videos</td>\n",
       "      <td>['https://twitter.com/pamkeyNEN']</td>\n",
       "      <td>0</td>\n",
       "    </tr>\n",
       "    <tr>\n",
       "      <th>241588</th>\n",
       "      <td>2016-12-11 10:11:35</td>\n",
       "      <td>Pam Key</td>\n",
       "      <td>AP’s Pace: Trump Is Trying to Get ‘Guidance fr...</td>\n",
       "      <td></td>\n",
       "      <td>videos</td>\n",
       "      <td>['https://twitter.com/pamkeyNEN']</td>\n",
       "      <td>0</td>\n",
       "    </tr>\n",
       "    <tr>\n",
       "      <th>241589</th>\n",
       "      <td>2016-12-11 10:14:04</td>\n",
       "      <td>Pam Key</td>\n",
       "      <td>Trump: I’m Not Taking a Wrecking Ball to Obama...</td>\n",
       "      <td></td>\n",
       "      <td>videos</td>\n",
       "      <td>['https://twitter.com/pamkeyNEN']</td>\n",
       "      <td>0</td>\n",
       "    </tr>\n",
       "    <tr>\n",
       "      <th>241590</th>\n",
       "      <td>2016-12-11 10:33:56</td>\n",
       "      <td>Pam Key</td>\n",
       "      <td>Trump: I’m ‘Very Open-Minded’ on Environment I...</td>\n",
       "      <td></td>\n",
       "      <td>videos</td>\n",
       "      <td>['https://twitter.com/pamkeyNEN']</td>\n",
       "      <td>0</td>\n",
       "    </tr>\n",
       "    <tr>\n",
       "      <th>241591</th>\n",
       "      <td>2016-12-11 10:36:34</td>\n",
       "      <td>Pam Key</td>\n",
       "      <td>Carl Bernstein Compares ‘Ignorant,’ ‘Fact-Free...</td>\n",
       "      <td></td>\n",
       "      <td>videos</td>\n",
       "      <td>['https://twitter.com/pamkeyNEN']</td>\n",
       "      <td>0</td>\n",
       "    </tr>\n",
       "    <tr>\n",
       "      <th>241592</th>\n",
       "      <td>2016-12-12 19:19:45</td>\n",
       "      <td>Ian Hanchett</td>\n",
       "      <td>Palmieri: ‘I Have Learned a Lot in Recent Week...</td>\n",
       "      <td></td>\n",
       "      <td>videos</td>\n",
       "      <td>['https://twitter.com/IanHanchett']</td>\n",
       "      <td>0</td>\n",
       "    </tr>\n",
       "    <tr>\n",
       "      <th>241593</th>\n",
       "      <td>2016-12-12 19:19:48</td>\n",
       "      <td>Ian Hanchett</td>\n",
       "      <td>Palmieri: Comey Letter Had ‘Impact’ of Skewing...</td>\n",
       "      <td></td>\n",
       "      <td>videos</td>\n",
       "      <td>['https://twitter.com/IanHanchett']</td>\n",
       "      <td>0</td>\n",
       "    </tr>\n",
       "    <tr>\n",
       "      <th>241594</th>\n",
       "      <td>2016-12-12 19:24:07</td>\n",
       "      <td>Ian Hanchett</td>\n",
       "      <td>Reid: WikiLeaks ‘Coordinated Everything They D...</td>\n",
       "      <td></td>\n",
       "      <td>videos</td>\n",
       "      <td>['http://www.huffingtonpost.com/entry/harry-re...</td>\n",
       "      <td>0</td>\n",
       "    </tr>\n",
       "    <tr>\n",
       "      <th>241595</th>\n",
       "      <td>2016-12-12 22:02:53</td>\n",
       "      <td>Jeff Poor</td>\n",
       "      <td>Hannity: Common Thread Among CIA, Dems, GOP ‘N...</td>\n",
       "      <td></td>\n",
       "      <td>videos</td>\n",
       "      <td>['http://twitter.com/jeff_poor']</td>\n",
       "      <td>0</td>\n",
       "    </tr>\n",
       "    <tr>\n",
       "      <th>241596</th>\n",
       "      <td>2016-12-13 00:57:15</td>\n",
       "      <td>Breitbart Jerusalem</td>\n",
       "      <td>WATCH: Newly Purchased F-35 Stealth Fighter Je...</td>\n",
       "      <td>The Times of Israel reports: Two of Israel’s n...</td>\n",
       "      <td>videos</td>\n",
       "      <td>['http://www.timesofisrael.com/in-anticlimax-i...</td>\n",
       "      <td>14</td>\n",
       "    </tr>\n",
       "    <tr>\n",
       "      <th>241597</th>\n",
       "      <td>2016-12-13 04:07:10</td>\n",
       "      <td>Ian Hanchett</td>\n",
       "      <td>Obama: ‘What Is It About’ State of Democracy W...</td>\n",
       "      <td></td>\n",
       "      <td>videos</td>\n",
       "      <td>['https://twitter.com/IanHanchett']</td>\n",
       "      <td>0</td>\n",
       "    </tr>\n",
       "    <tr>\n",
       "      <th>241598</th>\n",
       "      <td>2016-12-13 04:07:13</td>\n",
       "      <td>Ian Hanchett</td>\n",
       "      <td>Obama: Without Intel Briefings ‘You Are Flying...</td>\n",
       "      <td></td>\n",
       "      <td>videos</td>\n",
       "      <td>['https://twitter.com/IanHanchett']</td>\n",
       "      <td>0</td>\n",
       "    </tr>\n",
       "    <tr>\n",
       "      <th>241599</th>\n",
       "      <td>2016-12-13 05:37:39</td>\n",
       "      <td>Breitbart Tech</td>\n",
       "      <td>‘Warhammer 40,000: Inquisitor – Martyr’ — Open...</td>\n",
       "      <td>Learn about the persistent open-world sandbox ...</td>\n",
       "      <td>videos</td>\n",
       "      <td>[]</td>\n",
       "      <td>3</td>\n",
       "    </tr>\n",
       "    <tr>\n",
       "      <th>241600</th>\n",
       "      <td>2016-12-13 16:00:22</td>\n",
       "      <td>Breitbart TV</td>\n",
       "      <td>Watch Live: Donald Trump in West Allis, WI</td>\n",
       "      <td></td>\n",
       "      <td>videos</td>\n",
       "      <td>['http://rsbn.tv/watch-president-elect-donald-...</td>\n",
       "      <td>0</td>\n",
       "    </tr>\n",
       "    <tr>\n",
       "      <th>241601</th>\n",
       "      <td>2016-12-13 17:40:15</td>\n",
       "      <td>Pam Key</td>\n",
       "      <td>Conway: Tillerson Will Implement Trump Doctrin...</td>\n",
       "      <td></td>\n",
       "      <td>videos</td>\n",
       "      <td>['//twitter.com/pamkeyNEN']</td>\n",
       "      <td>0</td>\n",
       "    </tr>\n",
       "    <tr>\n",
       "      <th>241602</th>\n",
       "      <td>2016-12-13 18:20:16</td>\n",
       "      <td>Ian Hanchett</td>\n",
       "      <td>Rand: I Hope Tillerson Didn’t Get Friendship A...</td>\n",
       "      <td></td>\n",
       "      <td>videos</td>\n",
       "      <td>['https://twitter.com/IanHanchett']</td>\n",
       "      <td>0</td>\n",
       "    </tr>\n",
       "    <tr>\n",
       "      <th>241603</th>\n",
       "      <td>2016-12-13 18:21:29</td>\n",
       "      <td>Ian Hanchett</td>\n",
       "      <td>Mychal Denzel Smith: Kanye-Trump Meeting Not ‘...</td>\n",
       "      <td></td>\n",
       "      <td>videos</td>\n",
       "      <td>['https://twitter.com/IanHanchett']</td>\n",
       "      <td>0</td>\n",
       "    </tr>\n",
       "    <tr>\n",
       "      <th>241604</th>\n",
       "      <td>2016-12-13 21:33:36</td>\n",
       "      <td>Jeff Poor</td>\n",
       "      <td>Trump: ‘We Are Going to Say Merry Christmas Ag...</td>\n",
       "      <td></td>\n",
       "      <td>videos</td>\n",
       "      <td>['http://twitter.com/jeff_poor']</td>\n",
       "      <td>0</td>\n",
       "    </tr>\n",
       "    <tr>\n",
       "      <th>241605</th>\n",
       "      <td>2016-12-13 23:22:53</td>\n",
       "      <td>Trent Baker</td>\n",
       "      <td>Jim Brown: People Going Against the Election A...</td>\n",
       "      <td></td>\n",
       "      <td>videos</td>\n",
       "      <td>['https://twitter.com/MagnifiTrent']</td>\n",
       "      <td>0</td>\n",
       "    </tr>\n",
       "    <tr>\n",
       "      <th>241606</th>\n",
       "      <td>2016-12-14 02:01:40</td>\n",
       "      <td>Breitbart Jerusalem</td>\n",
       "      <td>WATCH: Jewish-Muslim Coexistence Hailed by Net...</td>\n",
       "      <td>The Times of Israel reports: BAKU, Azerbaijan ...</td>\n",
       "      <td>videos</td>\n",
       "      <td>['http://www.timesofisrael.com/in-azerbaijan-p...</td>\n",
       "      <td>6</td>\n",
       "    </tr>\n",
       "    <tr>\n",
       "      <th>...</th>\n",
       "      <td>...</td>\n",
       "      <td>...</td>\n",
       "      <td>...</td>\n",
       "      <td>...</td>\n",
       "      <td>...</td>\n",
       "      <td>...</td>\n",
       "      <td>...</td>\n",
       "    </tr>\n",
       "    <tr>\n",
       "      <th>241647</th>\n",
       "      <td>2016-12-23 06:47:59</td>\n",
       "      <td>Jeff Poor</td>\n",
       "      <td>Trump to MSNBC’s Brzezinski on Nuke Tweets: ‘L...</td>\n",
       "      <td></td>\n",
       "      <td>videos</td>\n",
       "      <td>['https://twitter.com/realDonaldTrump/status/8...</td>\n",
       "      <td>0</td>\n",
       "    </tr>\n",
       "    <tr>\n",
       "      <th>241648</th>\n",
       "      <td>2016-12-23 07:43:48</td>\n",
       "      <td>Trent Baker</td>\n",
       "      <td>George Lopez on Tiger Woods, Trump Golfing Tog...</td>\n",
       "      <td></td>\n",
       "      <td>videos</td>\n",
       "      <td>['http://www.tmz.com/2016/12/23/george-lopez-t...</td>\n",
       "      <td>0</td>\n",
       "    </tr>\n",
       "    <tr>\n",
       "      <th>241649</th>\n",
       "      <td>2016-12-23 08:00:43</td>\n",
       "      <td>Pam Key</td>\n",
       "      <td>Spicer: ‘There Is Not Going to Be’ an Arms Race</td>\n",
       "      <td></td>\n",
       "      <td>videos</td>\n",
       "      <td>['http://www.breitbart.com/video/2016/12/23/tr...</td>\n",
       "      <td>0</td>\n",
       "    </tr>\n",
       "    <tr>\n",
       "      <th>241650</th>\n",
       "      <td>2016-12-23 08:54:12</td>\n",
       "      <td>Daniel Nussbaum</td>\n",
       "      <td>Jackie Mason to ‘Obnoxious, Disgusting’ Trump-...</td>\n",
       "      <td>Comedy legend Jackie Mason has never been one ...</td>\n",
       "      <td>videos</td>\n",
       "      <td>['https://twitter.com/dznussbaum']</td>\n",
       "      <td>5</td>\n",
       "    </tr>\n",
       "    <tr>\n",
       "      <th>241651</th>\n",
       "      <td>2016-12-23 09:15:51</td>\n",
       "      <td>Pam Key</td>\n",
       "      <td>‘You Have No Right to Slur the President’ — CN...</td>\n",
       "      <td></td>\n",
       "      <td>videos</td>\n",
       "      <td>['https://twitter.com/pamkeyNEN']</td>\n",
       "      <td>0</td>\n",
       "    </tr>\n",
       "    <tr>\n",
       "      <th>241652</th>\n",
       "      <td>2016-12-25 01:23:35</td>\n",
       "      <td>Nick Hallett</td>\n",
       "      <td>WATCH: Masked Man Films Himself Carrying Islam...</td>\n",
       "      <td>A masked man holding an Islamic State flag has...</td>\n",
       "      <td>videos</td>\n",
       "      <td>['https://www.youtube.com/watch?v=HH5aJhwnEtE'...</td>\n",
       "      <td>7</td>\n",
       "    </tr>\n",
       "    <tr>\n",
       "      <th>241653</th>\n",
       "      <td>2016-12-25 05:39:40</td>\n",
       "      <td>Deborah Danan</td>\n",
       "      <td>WATCH: Mike Huckabee In ‘Seething Rage’ Over O...</td>\n",
       "      <td>TEL AVIV – Mike Huckabee is in a “seething rag...</td>\n",
       "      <td>videos</td>\n",
       "      <td>['http://insider.foxnews.com/2016/12/24/huckab...</td>\n",
       "      <td>11</td>\n",
       "    </tr>\n",
       "    <tr>\n",
       "      <th>241654</th>\n",
       "      <td>2016-12-25 07:18:22</td>\n",
       "      <td>Pam Key</td>\n",
       "      <td>Gingrich: Trump ‘Exactly Right’ on U.S. Need t...</td>\n",
       "      <td></td>\n",
       "      <td>videos</td>\n",
       "      <td>['http://thehill.com/homenews/campaign/311786-...</td>\n",
       "      <td>0</td>\n",
       "    </tr>\n",
       "    <tr>\n",
       "      <th>241655</th>\n",
       "      <td>2016-12-25 07:19:39</td>\n",
       "      <td>Pam Key</td>\n",
       "      <td>Gingrich: Trump’s Use of Twitter ‘Brilliant’</td>\n",
       "      <td></td>\n",
       "      <td>videos</td>\n",
       "      <td>['https://twitter.com/pamkeyNEN']</td>\n",
       "      <td>0</td>\n",
       "    </tr>\n",
       "    <tr>\n",
       "      <th>241656</th>\n",
       "      <td>2016-12-25 07:34:22</td>\n",
       "      <td>Pam Key</td>\n",
       "      <td>FNC’s Wallace: Politicians of Both Parties, Me...</td>\n",
       "      <td></td>\n",
       "      <td>videos</td>\n",
       "      <td>['https://twitter.com/pamkeyNEN']</td>\n",
       "      <td>0</td>\n",
       "    </tr>\n",
       "    <tr>\n",
       "      <th>241657</th>\n",
       "      <td>2016-12-25 07:53:34</td>\n",
       "      <td>Pam Key</td>\n",
       "      <td>AP’s Pace: Trump Won Because He is ‘Authentic’</td>\n",
       "      <td></td>\n",
       "      <td>videos</td>\n",
       "      <td>['https://twitter.com/pamkeyNEN']</td>\n",
       "      <td>0</td>\n",
       "    </tr>\n",
       "    <tr>\n",
       "      <th>241658</th>\n",
       "      <td>2016-12-26 17:10:38</td>\n",
       "      <td>Ian Hanchett</td>\n",
       "      <td>Krauthammer: Israeli Settlement Resolution ‘A ...</td>\n",
       "      <td></td>\n",
       "      <td>videos</td>\n",
       "      <td>['https://twitter.com/IanHanchett']</td>\n",
       "      <td>0</td>\n",
       "    </tr>\n",
       "    <tr>\n",
       "      <th>241659</th>\n",
       "      <td>2016-12-26 17:12:25</td>\n",
       "      <td>Ian Hanchett</td>\n",
       "      <td>Krauthammer: The UN Spends Its Time Attacking ...</td>\n",
       "      <td></td>\n",
       "      <td>videos</td>\n",
       "      <td>['https://twitter.com/IanHanchett']</td>\n",
       "      <td>0</td>\n",
       "    </tr>\n",
       "    <tr>\n",
       "      <th>241660</th>\n",
       "      <td>2016-12-27 06:16:29</td>\n",
       "      <td>Jeff Poor</td>\n",
       "      <td>Huckabee: ‘How Vain Must a Person Be’ for Obam...</td>\n",
       "      <td></td>\n",
       "      <td>videos</td>\n",
       "      <td>['http://twitter.com/jeff_poor']</td>\n",
       "      <td>0</td>\n",
       "    </tr>\n",
       "    <tr>\n",
       "      <th>241661</th>\n",
       "      <td>2016-12-27 06:39:56</td>\n",
       "      <td>Jeff Poor</td>\n",
       "      <td>Spicer: Twitter Is Going to Be a ‘Really Excit...</td>\n",
       "      <td></td>\n",
       "      <td>videos</td>\n",
       "      <td>['http://thehill.com/blogs/blog-briefing-room/...</td>\n",
       "      <td>0</td>\n",
       "    </tr>\n",
       "    <tr>\n",
       "      <th>241662</th>\n",
       "      <td>2016-12-27 07:06:15</td>\n",
       "      <td>Jeff Poor</td>\n",
       "      <td>GOP Rep Cole: Obama Israel Policy ‘a Series of...</td>\n",
       "      <td></td>\n",
       "      <td>videos</td>\n",
       "      <td>['http://http;//twitter.com/jeff_poor']</td>\n",
       "      <td>0</td>\n",
       "    </tr>\n",
       "    <tr>\n",
       "      <th>241663</th>\n",
       "      <td>2016-12-27 07:23:33</td>\n",
       "      <td>Trent Baker</td>\n",
       "      <td>Huckabee: We Ought to Jackhammer the UN Into t...</td>\n",
       "      <td></td>\n",
       "      <td>videos</td>\n",
       "      <td>['http://thehill.com/policy/international/3118...</td>\n",
       "      <td>0</td>\n",
       "    </tr>\n",
       "    <tr>\n",
       "      <th>241664</th>\n",
       "      <td>2016-12-27 08:23:18</td>\n",
       "      <td>Trent Baker</td>\n",
       "      <td>Watch: Cowboys Punter Chris Jones Lays Big Hit...</td>\n",
       "      <td></td>\n",
       "      <td>videos</td>\n",
       "      <td>['https://twitter.com/MagnifiTrent']</td>\n",
       "      <td>0</td>\n",
       "    </tr>\n",
       "    <tr>\n",
       "      <th>241665</th>\n",
       "      <td>2016-12-27 09:23:31</td>\n",
       "      <td>Pam Key</td>\n",
       "      <td>Woodward: Flynn Advising Trump Nuclear Arms Ra...</td>\n",
       "      <td></td>\n",
       "      <td>videos</td>\n",
       "      <td>['https://twitter.com/pamkeyNEN']</td>\n",
       "      <td>0</td>\n",
       "    </tr>\n",
       "    <tr>\n",
       "      <th>241666</th>\n",
       "      <td>2016-12-28 19:36:19</td>\n",
       "      <td>Ian Hanchett</td>\n",
       "      <td>Dershowitz: Obama Took Out ‘Anger and Pique’ a...</td>\n",
       "      <td></td>\n",
       "      <td>videos</td>\n",
       "      <td>['https://twitter.com/IanHanchett']</td>\n",
       "      <td>0</td>\n",
       "    </tr>\n",
       "    <tr>\n",
       "      <th>241667</th>\n",
       "      <td>2016-12-28 20:45:22</td>\n",
       "      <td>Ian Hanchett</td>\n",
       "      <td>GOP Rep Gohmert: Bill in Works to Revoke UN Fu...</td>\n",
       "      <td></td>\n",
       "      <td>videos</td>\n",
       "      <td>['https://twitter.com/IanHanchett']</td>\n",
       "      <td>0</td>\n",
       "    </tr>\n",
       "    <tr>\n",
       "      <th>241668</th>\n",
       "      <td>2016-12-29 06:19:09</td>\n",
       "      <td>Jeff Poor</td>\n",
       "      <td>Dem Sen Murphy: United Nations ‘Fundamentally ...</td>\n",
       "      <td></td>\n",
       "      <td>videos</td>\n",
       "      <td>['http://twitter.com/jeff_poor']</td>\n",
       "      <td>0</td>\n",
       "    </tr>\n",
       "    <tr>\n",
       "      <th>241669</th>\n",
       "      <td>2016-12-29 06:49:18</td>\n",
       "      <td>Jeff Poor</td>\n",
       "      <td>Incoming Trump Press Secretary Sean Spicer on ...</td>\n",
       "      <td></td>\n",
       "      <td>videos</td>\n",
       "      <td>['http://twitter.com/jeff_poor']</td>\n",
       "      <td>0</td>\n",
       "    </tr>\n",
       "    <tr>\n",
       "      <th>241670</th>\n",
       "      <td>2016-12-29 07:02:48</td>\n",
       "      <td>Deborah Danan</td>\n",
       "      <td>WATCH: Trump: Israel Treated ‘Very, Very Unfai...</td>\n",
       "      <td>TEL AVIV – Following Secretary of State John K...</td>\n",
       "      <td>videos</td>\n",
       "      <td>['https://twitter.com/realDonaldTrump/status/8...</td>\n",
       "      <td>20</td>\n",
       "    </tr>\n",
       "    <tr>\n",
       "      <th>241671</th>\n",
       "      <td>2016-12-29 07:38:19</td>\n",
       "      <td>Trent Baker</td>\n",
       "      <td>Watch: Cam Newton Surprises Young Fan Before S...</td>\n",
       "      <td></td>\n",
       "      <td>videos</td>\n",
       "      <td>['https://twitter.com/MagnifiTrent']</td>\n",
       "      <td>0</td>\n",
       "    </tr>\n",
       "    <tr>\n",
       "      <th>241672</th>\n",
       "      <td>2016-12-29 08:55:11</td>\n",
       "      <td>Ian Hanchett</td>\n",
       "      <td>Dem Rep Engel: ‘You Can Say’ Obama Foreign Pol...</td>\n",
       "      <td></td>\n",
       "      <td>videos</td>\n",
       "      <td>['https://twitter.com/IanHanchett']</td>\n",
       "      <td>0</td>\n",
       "    </tr>\n",
       "    <tr>\n",
       "      <th>241673</th>\n",
       "      <td>2016-12-30 12:06:10</td>\n",
       "      <td>Ian Hanchett</td>\n",
       "      <td>Dem Rep Schiff: Obama Waited Too Long to Take ...</td>\n",
       "      <td></td>\n",
       "      <td>videos</td>\n",
       "      <td>['https://grabien.com/story.php?id=80835', 'ht...</td>\n",
       "      <td>0</td>\n",
       "    </tr>\n",
       "    <tr>\n",
       "      <th>241674</th>\n",
       "      <td>2016-12-30 16:05:19</td>\n",
       "      <td>Pam Key</td>\n",
       "      <td>Bolton: Putin Is Smart</td>\n",
       "      <td></td>\n",
       "      <td>videos</td>\n",
       "      <td>['https://twitter.com/pamkeyNEN']</td>\n",
       "      <td>0</td>\n",
       "    </tr>\n",
       "    <tr>\n",
       "      <th>241675</th>\n",
       "      <td>2016-12-30 17:25:32</td>\n",
       "      <td>Ian Hanchett</td>\n",
       "      <td>Krauthammer: Obama Sanctions on Russia Are ‘Me...</td>\n",
       "      <td></td>\n",
       "      <td>videos</td>\n",
       "      <td>['https://twitter.com/IanHanchett']</td>\n",
       "      <td>0</td>\n",
       "    </tr>\n",
       "    <tr>\n",
       "      <th>241676</th>\n",
       "      <td>2016-12-30 18:56:26</td>\n",
       "      <td>Ian Hanchett</td>\n",
       "      <td>Conway: ‘Can’t Help But Think’ Obama Is Trying...</td>\n",
       "      <td></td>\n",
       "      <td>videos</td>\n",
       "      <td>['http://www.nytimes.com/2016/12/29/us/politic...</td>\n",
       "      <td>0</td>\n",
       "    </tr>\n",
       "  </tbody>\n",
       "</table>\n",
       "<p>100 rows × 7 columns</p>\n",
       "</div>"
      ],
      "text/plain": [
       "                      date               author  \\\n",
       "241577 2016-12-08 15:36:22          Trent Baker   \n",
       "241578 2016-12-09 16:46:00         Ian Hanchett   \n",
       "241579 2016-12-09 21:53:49            Jeff Poor   \n",
       "241580 2016-12-10 06:58:11         Ian Hanchett   \n",
       "241581 2016-12-10 06:58:28         Ian Hanchett   \n",
       "241582 2016-12-10 07:15:32      Chris Tomlinson   \n",
       "241583 2016-12-10 07:29:39         Ian Hanchett   \n",
       "241584 2016-12-11 08:24:19              Pam Key   \n",
       "241585 2016-12-11 09:12:18              Pam Key   \n",
       "241586 2016-12-11 09:19:37              Pam Key   \n",
       "241587 2016-12-11 10:08:49              Pam Key   \n",
       "241588 2016-12-11 10:11:35              Pam Key   \n",
       "241589 2016-12-11 10:14:04              Pam Key   \n",
       "241590 2016-12-11 10:33:56              Pam Key   \n",
       "241591 2016-12-11 10:36:34              Pam Key   \n",
       "241592 2016-12-12 19:19:45         Ian Hanchett   \n",
       "241593 2016-12-12 19:19:48         Ian Hanchett   \n",
       "241594 2016-12-12 19:24:07         Ian Hanchett   \n",
       "241595 2016-12-12 22:02:53            Jeff Poor   \n",
       "241596 2016-12-13 00:57:15  Breitbart Jerusalem   \n",
       "241597 2016-12-13 04:07:10         Ian Hanchett   \n",
       "241598 2016-12-13 04:07:13         Ian Hanchett   \n",
       "241599 2016-12-13 05:37:39       Breitbart Tech   \n",
       "241600 2016-12-13 16:00:22         Breitbart TV   \n",
       "241601 2016-12-13 17:40:15              Pam Key   \n",
       "241602 2016-12-13 18:20:16         Ian Hanchett   \n",
       "241603 2016-12-13 18:21:29         Ian Hanchett   \n",
       "241604 2016-12-13 21:33:36            Jeff Poor   \n",
       "241605 2016-12-13 23:22:53          Trent Baker   \n",
       "241606 2016-12-14 02:01:40  Breitbart Jerusalem   \n",
       "...                    ...                  ...   \n",
       "241647 2016-12-23 06:47:59            Jeff Poor   \n",
       "241648 2016-12-23 07:43:48          Trent Baker   \n",
       "241649 2016-12-23 08:00:43              Pam Key   \n",
       "241650 2016-12-23 08:54:12      Daniel Nussbaum   \n",
       "241651 2016-12-23 09:15:51              Pam Key   \n",
       "241652 2016-12-25 01:23:35         Nick Hallett   \n",
       "241653 2016-12-25 05:39:40        Deborah Danan   \n",
       "241654 2016-12-25 07:18:22              Pam Key   \n",
       "241655 2016-12-25 07:19:39              Pam Key   \n",
       "241656 2016-12-25 07:34:22              Pam Key   \n",
       "241657 2016-12-25 07:53:34              Pam Key   \n",
       "241658 2016-12-26 17:10:38         Ian Hanchett   \n",
       "241659 2016-12-26 17:12:25         Ian Hanchett   \n",
       "241660 2016-12-27 06:16:29            Jeff Poor   \n",
       "241661 2016-12-27 06:39:56            Jeff Poor   \n",
       "241662 2016-12-27 07:06:15            Jeff Poor   \n",
       "241663 2016-12-27 07:23:33          Trent Baker   \n",
       "241664 2016-12-27 08:23:18          Trent Baker   \n",
       "241665 2016-12-27 09:23:31              Pam Key   \n",
       "241666 2016-12-28 19:36:19         Ian Hanchett   \n",
       "241667 2016-12-28 20:45:22         Ian Hanchett   \n",
       "241668 2016-12-29 06:19:09            Jeff Poor   \n",
       "241669 2016-12-29 06:49:18            Jeff Poor   \n",
       "241670 2016-12-29 07:02:48        Deborah Danan   \n",
       "241671 2016-12-29 07:38:19          Trent Baker   \n",
       "241672 2016-12-29 08:55:11         Ian Hanchett   \n",
       "241673 2016-12-30 12:06:10         Ian Hanchett   \n",
       "241674 2016-12-30 16:05:19              Pam Key   \n",
       "241675 2016-12-30 17:25:32         Ian Hanchett   \n",
       "241676 2016-12-30 18:56:26         Ian Hanchett   \n",
       "\n",
       "                                                    title  \\\n",
       "241577  ESPN’s Jemele Hill: Trump Should Denounce Raci...   \n",
       "241578  Krauthammer: ‘There Isn’t a Lot of Consistency...   \n",
       "241579  Chris Wallace on Trump: ‘He Is Kind of the Com...   \n",
       "241580  GOP Rep Upton: 21st Century Cures Act ‘Once-in...   \n",
       "241581  Obama: Judge Obamacare Replacements By ‘Whethe...   \n",
       "241582  WATCH: 400 Migrants Storm Spanish Enclave in N...   \n",
       "241583  Reid: Comey ‘The New J. Edgar Hoover,’ Helped ...   \n",
       "241584  Trump: I’d ‘Love’ to Have Ivanka, Jared Kushne...   \n",
       "241585  McCain Calls for Select Committee Investigatio...   \n",
       "241586  Conway: Conclusion Russia Was Acting to Help T...   \n",
       "241587  Biden: Trump Ran ‘Most Vicious,’ ‘Craziest’ Ca...   \n",
       "241588  AP’s Pace: Trump Is Trying to Get ‘Guidance fr...   \n",
       "241589  Trump: I’m Not Taking a Wrecking Ball to Obama...   \n",
       "241590  Trump: I’m ‘Very Open-Minded’ on Environment I...   \n",
       "241591  Carl Bernstein Compares ‘Ignorant,’ ‘Fact-Free...   \n",
       "241592  Palmieri: ‘I Have Learned a Lot in Recent Week...   \n",
       "241593  Palmieri: Comey Letter Had ‘Impact’ of Skewing...   \n",
       "241594  Reid: WikiLeaks ‘Coordinated Everything They D...   \n",
       "241595  Hannity: Common Thread Among CIA, Dems, GOP ‘N...   \n",
       "241596  WATCH: Newly Purchased F-35 Stealth Fighter Je...   \n",
       "241597  Obama: ‘What Is It About’ State of Democracy W...   \n",
       "241598  Obama: Without Intel Briefings ‘You Are Flying...   \n",
       "241599  ‘Warhammer 40,000: Inquisitor – Martyr’ — Open...   \n",
       "241600         Watch Live: Donald Trump in West Allis, WI   \n",
       "241601  Conway: Tillerson Will Implement Trump Doctrin...   \n",
       "241602  Rand: I Hope Tillerson Didn’t Get Friendship A...   \n",
       "241603  Mychal Denzel Smith: Kanye-Trump Meeting Not ‘...   \n",
       "241604  Trump: ‘We Are Going to Say Merry Christmas Ag...   \n",
       "241605  Jim Brown: People Going Against the Election A...   \n",
       "241606  WATCH: Jewish-Muslim Coexistence Hailed by Net...   \n",
       "...                                                   ...   \n",
       "241647  Trump to MSNBC’s Brzezinski on Nuke Tweets: ‘L...   \n",
       "241648  George Lopez on Tiger Woods, Trump Golfing Tog...   \n",
       "241649    Spicer: ‘There Is Not Going to Be’ an Arms Race   \n",
       "241650  Jackie Mason to ‘Obnoxious, Disgusting’ Trump-...   \n",
       "241651  ‘You Have No Right to Slur the President’ — CN...   \n",
       "241652  WATCH: Masked Man Films Himself Carrying Islam...   \n",
       "241653  WATCH: Mike Huckabee In ‘Seething Rage’ Over O...   \n",
       "241654  Gingrich: Trump ‘Exactly Right’ on U.S. Need t...   \n",
       "241655       Gingrich: Trump’s Use of Twitter ‘Brilliant’   \n",
       "241656  FNC’s Wallace: Politicians of Both Parties, Me...   \n",
       "241657     AP’s Pace: Trump Won Because He is ‘Authentic’   \n",
       "241658  Krauthammer: Israeli Settlement Resolution ‘A ...   \n",
       "241659  Krauthammer: The UN Spends Its Time Attacking ...   \n",
       "241660  Huckabee: ‘How Vain Must a Person Be’ for Obam...   \n",
       "241661  Spicer: Twitter Is Going to Be a ‘Really Excit...   \n",
       "241662  GOP Rep Cole: Obama Israel Policy ‘a Series of...   \n",
       "241663  Huckabee: We Ought to Jackhammer the UN Into t...   \n",
       "241664  Watch: Cowboys Punter Chris Jones Lays Big Hit...   \n",
       "241665  Woodward: Flynn Advising Trump Nuclear Arms Ra...   \n",
       "241666  Dershowitz: Obama Took Out ‘Anger and Pique’ a...   \n",
       "241667  GOP Rep Gohmert: Bill in Works to Revoke UN Fu...   \n",
       "241668  Dem Sen Murphy: United Nations ‘Fundamentally ...   \n",
       "241669  Incoming Trump Press Secretary Sean Spicer on ...   \n",
       "241670  WATCH: Trump: Israel Treated ‘Very, Very Unfai...   \n",
       "241671  Watch: Cam Newton Surprises Young Fan Before S...   \n",
       "241672  Dem Rep Engel: ‘You Can Say’ Obama Foreign Pol...   \n",
       "241673  Dem Rep Schiff: Obama Waited Too Long to Take ...   \n",
       "241674                             Bolton: Putin Is Smart   \n",
       "241675  Krauthammer: Obama Sanctions on Russia Are ‘Me...   \n",
       "241676  Conway: ‘Can’t Help But Think’ Obama Is Trying...   \n",
       "\n",
       "                                                     lead category  \\\n",
       "241577                                                      videos   \n",
       "241578                                                      videos   \n",
       "241579                                                      videos   \n",
       "241580                                                      videos   \n",
       "241581                                                      videos   \n",
       "241582  Around 400 migrants stormed the 20-foot high b...   videos   \n",
       "241583                                                      videos   \n",
       "241584                                                      videos   \n",
       "241585                                                      videos   \n",
       "241586                                                      videos   \n",
       "241587                                                      videos   \n",
       "241588                                                      videos   \n",
       "241589                                                      videos   \n",
       "241590                                                      videos   \n",
       "241591                                                      videos   \n",
       "241592                                                      videos   \n",
       "241593                                                      videos   \n",
       "241594                                                      videos   \n",
       "241595                                                      videos   \n",
       "241596  The Times of Israel reports: Two of Israel’s n...   videos   \n",
       "241597                                                      videos   \n",
       "241598                                                      videos   \n",
       "241599  Learn about the persistent open-world sandbox ...   videos   \n",
       "241600                                                      videos   \n",
       "241601                                                      videos   \n",
       "241602                                                      videos   \n",
       "241603                                                      videos   \n",
       "241604                                                      videos   \n",
       "241605                                                      videos   \n",
       "241606  The Times of Israel reports: BAKU, Azerbaijan ...   videos   \n",
       "...                                                   ...      ...   \n",
       "241647                                                      videos   \n",
       "241648                                                      videos   \n",
       "241649                                                      videos   \n",
       "241650  Comedy legend Jackie Mason has never been one ...   videos   \n",
       "241651                                                      videos   \n",
       "241652  A masked man holding an Islamic State flag has...   videos   \n",
       "241653  TEL AVIV – Mike Huckabee is in a “seething rag...   videos   \n",
       "241654                                                      videos   \n",
       "241655                                                      videos   \n",
       "241656                                                      videos   \n",
       "241657                                                      videos   \n",
       "241658                                                      videos   \n",
       "241659                                                      videos   \n",
       "241660                                                      videos   \n",
       "241661                                                      videos   \n",
       "241662                                                      videos   \n",
       "241663                                                      videos   \n",
       "241664                                                      videos   \n",
       "241665                                                      videos   \n",
       "241666                                                      videos   \n",
       "241667                                                      videos   \n",
       "241668                                                      videos   \n",
       "241669                                                      videos   \n",
       "241670  TEL AVIV – Following Secretary of State John K...   videos   \n",
       "241671                                                      videos   \n",
       "241672                                                      videos   \n",
       "241673                                                      videos   \n",
       "241674                                                      videos   \n",
       "241675                                                      videos   \n",
       "241676                                                      videos   \n",
       "\n",
       "                                                    hrefs  wd_ct_nostop  \n",
       "241577  ['http://www.breitbart.com/video/2016/12/08/nf...             0  \n",
       "241578                ['https://twitter.com/IanHanchett']             0  \n",
       "241579  ['http://www.realclearpolitics.com/video/2016/...             0  \n",
       "241580                ['https://twitter.com/IanHanchett']             0  \n",
       "241581                ['https://twitter.com/IanHanchett']             0  \n",
       "241582  ['http://elfarodeceuta.es/2016/12/09/entrada-c...             8  \n",
       "241583                ['https://twitter.com/IanHanchett']             0  \n",
       "241584  ['http://thehill.com/homenews/administration/3...             0  \n",
       "241585                  ['https://twitter.com/pamkeyNEN']             0  \n",
       "241586  ['http://www.breitbart.com/video/2016/12/11/tr...             0  \n",
       "241587                  ['https://twitter.com/pamkeyNEN']             0  \n",
       "241588                  ['https://twitter.com/pamkeyNEN']             0  \n",
       "241589                  ['https://twitter.com/pamkeyNEN']             0  \n",
       "241590                  ['https://twitter.com/pamkeyNEN']             0  \n",
       "241591                  ['https://twitter.com/pamkeyNEN']             0  \n",
       "241592                ['https://twitter.com/IanHanchett']             0  \n",
       "241593                ['https://twitter.com/IanHanchett']             0  \n",
       "241594  ['http://www.huffingtonpost.com/entry/harry-re...             0  \n",
       "241595                   ['http://twitter.com/jeff_poor']             0  \n",
       "241596  ['http://www.timesofisrael.com/in-anticlimax-i...            14  \n",
       "241597                ['https://twitter.com/IanHanchett']             0  \n",
       "241598                ['https://twitter.com/IanHanchett']             0  \n",
       "241599                                                 []             3  \n",
       "241600  ['http://rsbn.tv/watch-president-elect-donald-...             0  \n",
       "241601                        ['//twitter.com/pamkeyNEN']             0  \n",
       "241602                ['https://twitter.com/IanHanchett']             0  \n",
       "241603                ['https://twitter.com/IanHanchett']             0  \n",
       "241604                   ['http://twitter.com/jeff_poor']             0  \n",
       "241605               ['https://twitter.com/MagnifiTrent']             0  \n",
       "241606  ['http://www.timesofisrael.com/in-azerbaijan-p...             6  \n",
       "...                                                   ...           ...  \n",
       "241647  ['https://twitter.com/realDonaldTrump/status/8...             0  \n",
       "241648  ['http://www.tmz.com/2016/12/23/george-lopez-t...             0  \n",
       "241649  ['http://www.breitbart.com/video/2016/12/23/tr...             0  \n",
       "241650                 ['https://twitter.com/dznussbaum']             5  \n",
       "241651                  ['https://twitter.com/pamkeyNEN']             0  \n",
       "241652  ['https://www.youtube.com/watch?v=HH5aJhwnEtE'...             7  \n",
       "241653  ['http://insider.foxnews.com/2016/12/24/huckab...            11  \n",
       "241654  ['http://thehill.com/homenews/campaign/311786-...             0  \n",
       "241655                  ['https://twitter.com/pamkeyNEN']             0  \n",
       "241656                  ['https://twitter.com/pamkeyNEN']             0  \n",
       "241657                  ['https://twitter.com/pamkeyNEN']             0  \n",
       "241658                ['https://twitter.com/IanHanchett']             0  \n",
       "241659                ['https://twitter.com/IanHanchett']             0  \n",
       "241660                   ['http://twitter.com/jeff_poor']             0  \n",
       "241661  ['http://thehill.com/blogs/blog-briefing-room/...             0  \n",
       "241662            ['http://http;//twitter.com/jeff_poor']             0  \n",
       "241663  ['http://thehill.com/policy/international/3118...             0  \n",
       "241664               ['https://twitter.com/MagnifiTrent']             0  \n",
       "241665                  ['https://twitter.com/pamkeyNEN']             0  \n",
       "241666                ['https://twitter.com/IanHanchett']             0  \n",
       "241667                ['https://twitter.com/IanHanchett']             0  \n",
       "241668                   ['http://twitter.com/jeff_poor']             0  \n",
       "241669                   ['http://twitter.com/jeff_poor']             0  \n",
       "241670  ['https://twitter.com/realDonaldTrump/status/8...            20  \n",
       "241671               ['https://twitter.com/MagnifiTrent']             0  \n",
       "241672                ['https://twitter.com/IanHanchett']             0  \n",
       "241673  ['https://grabien.com/story.php?id=80835', 'ht...             0  \n",
       "241674                  ['https://twitter.com/pamkeyNEN']             0  \n",
       "241675                ['https://twitter.com/IanHanchett']             0  \n",
       "241676  ['http://www.nytimes.com/2016/12/29/us/politic...             0  \n",
       "\n",
       "[100 rows x 7 columns]"
      ]
     },
     "execution_count": 53,
     "metadata": {},
     "output_type": "execute_result"
    }
   ],
   "source": [
    "df.tail(100)"
   ]
  },
  {
   "cell_type": "code",
   "execution_count": 54,
   "metadata": {},
   "outputs": [
    {
     "name": "stderr",
     "output_type": "stream",
     "text": [
      "/Users/randy/anaconda/envs/play/lib/python3.6/site-packages/ipykernel_launcher.py:2: FutureWarning: using a dict on a Series for aggregation\n",
      "is deprecated and will be removed in a future version\n",
      "  \n"
     ]
    }
   ],
   "source": [
    "df_grp = df.groupby('category')\n",
    "plt_this = df_grp['wd_ct_nostop'].agg({'avg':'mean', 'std':'std'})"
   ]
  },
  {
   "cell_type": "code",
   "execution_count": 58,
   "metadata": {},
   "outputs": [
    {
     "data": {
      "image/png": "[encoded data removed]",
      "text/plain": [
       "<matplotlib.figure.Figure at 0x128d04278>"
      ]
     },
     "metadata": {},
     "output_type": "display_data"
    }
   ],
   "source": [
    "## plot \n",
    "plt.figure(figsize=(11,6))\n",
    "\n",
    "sns.set_style(\"darkgrid\")\n",
    "sns.barplot(x=plt_this['avg'],y=plt_this['avg'].index,\n",
    "                        palette=\"muted\")\n",
    "plt.xticks(rotation=90)\n",
    "plt.show()"
   ]
  },
  {
   "cell_type": "code",
   "execution_count": 63,
   "metadata": {},
   "outputs": [
    {
     "ename": "ValueError",
     "evalue": "could not convert string to float: 'videos'",
     "output_type": "error",
     "traceback": [
      "\u001b[0;31m---------------------------------------------------------------------------\u001b[0m",
      "\u001b[0;31mValueError\u001b[0m                                Traceback (most recent call last)",
      "\u001b[0;32m<ipython-input-63-225e8075f9b6>\u001b[0m in \u001b[0;36m<module>\u001b[0;34m()\u001b[0m\n\u001b[0;32m----> 1\u001b[0;31m \u001b[0mplt\u001b[0m\u001b[0;34m.\u001b[0m\u001b[0merrorbar\u001b[0m\u001b[0;34m(\u001b[0m\u001b[0my\u001b[0m\u001b[0;34m=\u001b[0m\u001b[0mplt_this\u001b[0m\u001b[0;34m[\u001b[0m\u001b[0;34m'avg'\u001b[0m\u001b[0;34m]\u001b[0m\u001b[0;34m,\u001b[0m \u001b[0mx\u001b[0m\u001b[0;34m=\u001b[0m\u001b[0mplt_this\u001b[0m\u001b[0;34m[\u001b[0m\u001b[0;34m'avg'\u001b[0m\u001b[0;34m]\u001b[0m\u001b[0;34m.\u001b[0m\u001b[0mindex\u001b[0m\u001b[0;34m,\u001b[0m \u001b[0mxerr\u001b[0m\u001b[0;34m=\u001b[0m\u001b[0;36m1\u001b[0m\u001b[0;34m,\u001b[0m \u001b[0mfmt\u001b[0m\u001b[0;34m=\u001b[0m\u001b[0;34m'o'\u001b[0m\u001b[0;34m)\u001b[0m\u001b[0;34m\u001b[0m\u001b[0m\n\u001b[0m",
      "\u001b[0;32m/Users/randy/anaconda/envs/play/lib/python3.6/site-packages/matplotlib/pyplot.py\u001b[0m in \u001b[0;36merrorbar\u001b[0;34m(x, y, yerr, xerr, fmt, ecolor, elinewidth, capsize, barsabove, lolims, uplims, xlolims, xuplims, errorevery, capthick, hold, data, **kwargs)\u001b[0m\n\u001b[1;32m   2927\u001b[0m                           \u001b[0mxlolims\u001b[0m\u001b[0;34m=\u001b[0m\u001b[0mxlolims\u001b[0m\u001b[0;34m,\u001b[0m \u001b[0mxuplims\u001b[0m\u001b[0;34m=\u001b[0m\u001b[0mxuplims\u001b[0m\u001b[0;34m,\u001b[0m\u001b[0;34m\u001b[0m\u001b[0m\n\u001b[1;32m   2928\u001b[0m                           \u001b[0merrorevery\u001b[0m\u001b[0;34m=\u001b[0m\u001b[0merrorevery\u001b[0m\u001b[0;34m,\u001b[0m \u001b[0mcapthick\u001b[0m\u001b[0;34m=\u001b[0m\u001b[0mcapthick\u001b[0m\u001b[0;34m,\u001b[0m \u001b[0mdata\u001b[0m\u001b[0;34m=\u001b[0m\u001b[0mdata\u001b[0m\u001b[0;34m,\u001b[0m\u001b[0;34m\u001b[0m\u001b[0m\n\u001b[0;32m-> 2929\u001b[0;31m                           **kwargs)\n\u001b[0m\u001b[1;32m   2930\u001b[0m     \u001b[0;32mfinally\u001b[0m\u001b[0;34m:\u001b[0m\u001b[0;34m\u001b[0m\u001b[0m\n\u001b[1;32m   2931\u001b[0m         \u001b[0max\u001b[0m\u001b[0;34m.\u001b[0m\u001b[0m_hold\u001b[0m \u001b[0;34m=\u001b[0m \u001b[0mwashold\u001b[0m\u001b[0;34m\u001b[0m\u001b[0m\n",
      "\u001b[0;32m/Users/randy/anaconda/envs/play/lib/python3.6/site-packages/matplotlib/__init__.py\u001b[0m in \u001b[0;36minner\u001b[0;34m(ax, *args, **kwargs)\u001b[0m\n\u001b[1;32m   1896\u001b[0m                     warnings.warn(msg % (label_namer, func.__name__),\n\u001b[1;32m   1897\u001b[0m                                   RuntimeWarning, stacklevel=2)\n\u001b[0;32m-> 1898\u001b[0;31m             \u001b[0;32mreturn\u001b[0m \u001b[0mfunc\u001b[0m\u001b[0;34m(\u001b[0m\u001b[0max\u001b[0m\u001b[0;34m,\u001b[0m \u001b[0;34m*\u001b[0m\u001b[0margs\u001b[0m\u001b[0;34m,\u001b[0m \u001b[0;34m**\u001b[0m\u001b[0mkwargs\u001b[0m\u001b[0;34m)\u001b[0m\u001b[0;34m\u001b[0m\u001b[0m\n\u001b[0m\u001b[1;32m   1899\u001b[0m         \u001b[0mpre_doc\u001b[0m \u001b[0;34m=\u001b[0m \u001b[0minner\u001b[0m\u001b[0;34m.\u001b[0m\u001b[0m__doc__\u001b[0m\u001b[0;34m\u001b[0m\u001b[0m\n\u001b[1;32m   1900\u001b[0m         \u001b[0;32mif\u001b[0m \u001b[0mpre_doc\u001b[0m \u001b[0;32mis\u001b[0m \u001b[0;32mNone\u001b[0m\u001b[0;34m:\u001b[0m\u001b[0;34m\u001b[0m\u001b[0m\n",
      "\u001b[0;32m/Users/randy/anaconda/envs/play/lib/python3.6/site-packages/matplotlib/axes/_axes.py\u001b[0m in \u001b[0;36merrorbar\u001b[0;34m(self, x, y, yerr, xerr, fmt, ecolor, elinewidth, capsize, barsabove, lolims, uplims, xlolims, xuplims, errorevery, capthick, **kwargs)\u001b[0m\n\u001b[1;32m   2905\u001b[0m         \u001b[0;32mif\u001b[0m \u001b[0mplot_line\u001b[0m\u001b[0;34m:\u001b[0m\u001b[0;34m\u001b[0m\u001b[0m\n\u001b[1;32m   2906\u001b[0m             \u001b[0mdata_line\u001b[0m \u001b[0;34m=\u001b[0m \u001b[0mmlines\u001b[0m\u001b[0;34m.\u001b[0m\u001b[0mLine2D\u001b[0m\u001b[0;34m(\u001b[0m\u001b[0mx\u001b[0m\u001b[0;34m,\u001b[0m \u001b[0my\u001b[0m\u001b[0;34m,\u001b[0m \u001b[0;34m**\u001b[0m\u001b[0mplot_line_style\u001b[0m\u001b[0;34m)\u001b[0m\u001b[0;34m\u001b[0m\u001b[0m\n\u001b[0;32m-> 2907\u001b[0;31m             \u001b[0mself\u001b[0m\u001b[0;34m.\u001b[0m\u001b[0madd_line\u001b[0m\u001b[0;34m(\u001b[0m\u001b[0mdata_line\u001b[0m\u001b[0;34m)\u001b[0m\u001b[0;34m\u001b[0m\u001b[0m\n\u001b[0m\u001b[1;32m   2908\u001b[0m \u001b[0;34m\u001b[0m\u001b[0m\n\u001b[1;32m   2909\u001b[0m         \u001b[0mbarcols\u001b[0m \u001b[0;34m=\u001b[0m \u001b[0;34m[\u001b[0m\u001b[0;34m]\u001b[0m\u001b[0;34m\u001b[0m\u001b[0m\n",
      "\u001b[0;32m/Users/randy/anaconda/envs/play/lib/python3.6/site-packages/matplotlib/axes/_base.py\u001b[0m in \u001b[0;36madd_line\u001b[0;34m(self, line)\u001b[0m\n\u001b[1;32m   1791\u001b[0m             \u001b[0mline\u001b[0m\u001b[0;34m.\u001b[0m\u001b[0mset_clip_path\u001b[0m\u001b[0;34m(\u001b[0m\u001b[0mself\u001b[0m\u001b[0;34m.\u001b[0m\u001b[0mpatch\u001b[0m\u001b[0;34m)\u001b[0m\u001b[0;34m\u001b[0m\u001b[0m\n\u001b[1;32m   1792\u001b[0m \u001b[0;34m\u001b[0m\u001b[0m\n\u001b[0;32m-> 1793\u001b[0;31m         \u001b[0mself\u001b[0m\u001b[0;34m.\u001b[0m\u001b[0m_update_line_limits\u001b[0m\u001b[0;34m(\u001b[0m\u001b[0mline\u001b[0m\u001b[0;34m)\u001b[0m\u001b[0;34m\u001b[0m\u001b[0m\n\u001b[0m\u001b[1;32m   1794\u001b[0m         \u001b[0;32mif\u001b[0m \u001b[0;32mnot\u001b[0m \u001b[0mline\u001b[0m\u001b[0;34m.\u001b[0m\u001b[0mget_label\u001b[0m\u001b[0;34m(\u001b[0m\u001b[0;34m)\u001b[0m\u001b[0;34m:\u001b[0m\u001b[0;34m\u001b[0m\u001b[0m\n\u001b[1;32m   1795\u001b[0m             \u001b[0mline\u001b[0m\u001b[0;34m.\u001b[0m\u001b[0mset_label\u001b[0m\u001b[0;34m(\u001b[0m\u001b[0;34m'_line%d'\u001b[0m \u001b[0;34m%\u001b[0m \u001b[0mlen\u001b[0m\u001b[0;34m(\u001b[0m\u001b[0mself\u001b[0m\u001b[0;34m.\u001b[0m\u001b[0mlines\u001b[0m\u001b[0;34m)\u001b[0m\u001b[0;34m)\u001b[0m\u001b[0;34m\u001b[0m\u001b[0m\n",
      "\u001b[0;32m/Users/randy/anaconda/envs/play/lib/python3.6/site-packages/matplotlib/axes/_base.py\u001b[0m in \u001b[0;36m_update_line_limits\u001b[0;34m(self, line)\u001b[0m\n\u001b[1;32m   1813\u001b[0m         \u001b[0mFigures\u001b[0m \u001b[0mout\u001b[0m \u001b[0mthe\u001b[0m \u001b[0mdata\u001b[0m \u001b[0mlimit\u001b[0m \u001b[0mof\u001b[0m \u001b[0mthe\u001b[0m \u001b[0mgiven\u001b[0m \u001b[0mline\u001b[0m\u001b[0;34m,\u001b[0m \u001b[0mupdating\u001b[0m \u001b[0mself\u001b[0m\u001b[0;34m.\u001b[0m\u001b[0mdataLim\u001b[0m\u001b[0;34m.\u001b[0m\u001b[0;34m\u001b[0m\u001b[0m\n\u001b[1;32m   1814\u001b[0m         \"\"\"\n\u001b[0;32m-> 1815\u001b[0;31m         \u001b[0mpath\u001b[0m \u001b[0;34m=\u001b[0m \u001b[0mline\u001b[0m\u001b[0;34m.\u001b[0m\u001b[0mget_path\u001b[0m\u001b[0;34m(\u001b[0m\u001b[0;34m)\u001b[0m\u001b[0;34m\u001b[0m\u001b[0m\n\u001b[0m\u001b[1;32m   1816\u001b[0m         \u001b[0;32mif\u001b[0m \u001b[0mpath\u001b[0m\u001b[0;34m.\u001b[0m\u001b[0mvertices\u001b[0m\u001b[0;34m.\u001b[0m\u001b[0msize\u001b[0m \u001b[0;34m==\u001b[0m \u001b[0;36m0\u001b[0m\u001b[0;34m:\u001b[0m\u001b[0;34m\u001b[0m\u001b[0m\n\u001b[1;32m   1817\u001b[0m             \u001b[0;32mreturn\u001b[0m\u001b[0;34m\u001b[0m\u001b[0m\n",
      "\u001b[0;32m/Users/randy/anaconda/envs/play/lib/python3.6/site-packages/matplotlib/lines.py\u001b[0m in \u001b[0;36mget_path\u001b[0;34m(self)\u001b[0m\n\u001b[1;32m    987\u001b[0m         \"\"\"\n\u001b[1;32m    988\u001b[0m         \u001b[0;32mif\u001b[0m \u001b[0mself\u001b[0m\u001b[0;34m.\u001b[0m\u001b[0m_invalidy\u001b[0m \u001b[0;32mor\u001b[0m \u001b[0mself\u001b[0m\u001b[0;34m.\u001b[0m\u001b[0m_invalidx\u001b[0m\u001b[0;34m:\u001b[0m\u001b[0;34m\u001b[0m\u001b[0m\n\u001b[0;32m--> 989\u001b[0;31m             \u001b[0mself\u001b[0m\u001b[0;34m.\u001b[0m\u001b[0mrecache\u001b[0m\u001b[0;34m(\u001b[0m\u001b[0;34m)\u001b[0m\u001b[0;34m\u001b[0m\u001b[0m\n\u001b[0m\u001b[1;32m    990\u001b[0m         \u001b[0;32mreturn\u001b[0m \u001b[0mself\u001b[0m\u001b[0;34m.\u001b[0m\u001b[0m_path\u001b[0m\u001b[0;34m\u001b[0m\u001b[0m\n\u001b[1;32m    991\u001b[0m \u001b[0;34m\u001b[0m\u001b[0m\n",
      "\u001b[0;32m/Users/randy/anaconda/envs/play/lib/python3.6/site-packages/matplotlib/lines.py\u001b[0m in \u001b[0;36mrecache\u001b[0;34m(self, always)\u001b[0m\n\u001b[1;32m    674\u001b[0m                 \u001b[0mx\u001b[0m \u001b[0;34m=\u001b[0m \u001b[0mma\u001b[0m\u001b[0;34m.\u001b[0m\u001b[0masarray\u001b[0m\u001b[0;34m(\u001b[0m\u001b[0mxconv\u001b[0m\u001b[0;34m,\u001b[0m \u001b[0mnp\u001b[0m\u001b[0;34m.\u001b[0m\u001b[0mfloat_\u001b[0m\u001b[0;34m)\u001b[0m\u001b[0;34m.\u001b[0m\u001b[0mfilled\u001b[0m\u001b[0;34m(\u001b[0m\u001b[0mnp\u001b[0m\u001b[0;34m.\u001b[0m\u001b[0mnan\u001b[0m\u001b[0;34m)\u001b[0m\u001b[0;34m\u001b[0m\u001b[0m\n\u001b[1;32m    675\u001b[0m             \u001b[0;32melse\u001b[0m\u001b[0;34m:\u001b[0m\u001b[0;34m\u001b[0m\u001b[0m\n\u001b[0;32m--> 676\u001b[0;31m                 \u001b[0mx\u001b[0m \u001b[0;34m=\u001b[0m \u001b[0mnp\u001b[0m\u001b[0;34m.\u001b[0m\u001b[0masarray\u001b[0m\u001b[0;34m(\u001b[0m\u001b[0mxconv\u001b[0m\u001b[0;34m,\u001b[0m \u001b[0mnp\u001b[0m\u001b[0;34m.\u001b[0m\u001b[0mfloat_\u001b[0m\u001b[0;34m)\u001b[0m\u001b[0;34m\u001b[0m\u001b[0m\n\u001b[0m\u001b[1;32m    677\u001b[0m             \u001b[0mx\u001b[0m \u001b[0;34m=\u001b[0m \u001b[0mx\u001b[0m\u001b[0;34m.\u001b[0m\u001b[0mravel\u001b[0m\u001b[0;34m(\u001b[0m\u001b[0;34m)\u001b[0m\u001b[0;34m\u001b[0m\u001b[0m\n\u001b[1;32m    678\u001b[0m         \u001b[0;32melse\u001b[0m\u001b[0;34m:\u001b[0m\u001b[0;34m\u001b[0m\u001b[0m\n",
      "\u001b[0;32m/Users/randy/anaconda/envs/play/lib/python3.6/site-packages/numpy/core/numeric.py\u001b[0m in \u001b[0;36masarray\u001b[0;34m(a, dtype, order)\u001b[0m\n\u001b[1;32m    529\u001b[0m \u001b[0;34m\u001b[0m\u001b[0m\n\u001b[1;32m    530\u001b[0m     \"\"\"\n\u001b[0;32m--> 531\u001b[0;31m     \u001b[0;32mreturn\u001b[0m \u001b[0marray\u001b[0m\u001b[0;34m(\u001b[0m\u001b[0ma\u001b[0m\u001b[0;34m,\u001b[0m \u001b[0mdtype\u001b[0m\u001b[0;34m,\u001b[0m \u001b[0mcopy\u001b[0m\u001b[0;34m=\u001b[0m\u001b[0;32mFalse\u001b[0m\u001b[0;34m,\u001b[0m \u001b[0morder\u001b[0m\u001b[0;34m=\u001b[0m\u001b[0morder\u001b[0m\u001b[0;34m)\u001b[0m\u001b[0;34m\u001b[0m\u001b[0m\n\u001b[0m\u001b[1;32m    532\u001b[0m \u001b[0;34m\u001b[0m\u001b[0m\n\u001b[1;32m    533\u001b[0m \u001b[0;34m\u001b[0m\u001b[0m\n",
      "\u001b[0;31mValueError\u001b[0m: could not convert string to float: 'videos'"
     ]
    },
    {
     "data": {
      "image/png": "[encoded data removed]",
      "text/plain": [
       "<matplotlib.figure.Figure at 0x127cdbe10>"
      ]
     },
     "metadata": {},
     "output_type": "display_data"
    }
   ],
   "source": [
    "plt.errorbar(y=plt_this['avg'], x=plt_this['avg'].index, xerr=1, fmt='o')\n"
   ]
  },
  {
   "cell_type": "code",
   "execution_count": 62,
   "metadata": {},
   "outputs": [
    {
     "data": {
      "text/plain": [
       "category\n",
       "california    11.917375\n",
       "government    11.091036\n",
       "hollywood      8.469665\n",
       "jerusalem     10.568534\n",
       "journalism    12.813971\n",
       "london        11.895103\n",
       "natsec        10.331094\n",
       "race2016       6.246057\n",
       "sports         9.270826\n",
       "tech          10.344388\n",
       "texas         10.568709\n",
       "videos         1.520971\n",
       "Name: avg, dtype: float64"
      ]
     },
     "execution_count": 62,
     "metadata": {},
     "output_type": "execute_result"
    }
   ],
   "source": [
    "plt_this['avg']"
   ]
  },
  {
   "cell_type": "code",
   "execution_count": 70,
   "metadata": {},
   "outputs": [
    {
     "ename": "ValueError",
     "evalue": "could not convert string to float: 'videos'",
     "output_type": "error",
     "traceback": [
      "\u001b[0;31m---------------------------------------------------------------------------\u001b[0m",
      "\u001b[0;31mValueError\u001b[0m                                Traceback (most recent call last)",
      "\u001b[0;32m<ipython-input-70-77d6a960712f>\u001b[0m in \u001b[0;36m<module>\u001b[0;34m()\u001b[0m\n\u001b[1;32m      1\u001b[0m \u001b[0;31m#ax = sns.pointplot(x=\"wd_ct_nostop\", y=plt_this['avg'].index, data=df_grp, join=False)\u001b[0m\u001b[0;34m\u001b[0m\u001b[0;34m\u001b[0m\u001b[0m\n\u001b[0;32m----> 2\u001b[0;31m \u001b[0mplt\u001b[0m\u001b[0;34m.\u001b[0m\u001b[0merrorbar\u001b[0m\u001b[0;34m(\u001b[0m\u001b[0mplt_this\u001b[0m\u001b[0;34m[\u001b[0m\u001b[0;34m'avg'\u001b[0m\u001b[0;34m]\u001b[0m\u001b[0;34m,\u001b[0m \u001b[0mplt_this\u001b[0m\u001b[0;34m.\u001b[0m\u001b[0mindex\u001b[0m\u001b[0;34m,\u001b[0m \u001b[0mxerr\u001b[0m\u001b[0;34m=\u001b[0m\u001b[0;36m1\u001b[0m\u001b[0;34m,\u001b[0m \u001b[0mfmt\u001b[0m\u001b[0;34m=\u001b[0m\u001b[0;34m'o'\u001b[0m\u001b[0;34m)\u001b[0m\u001b[0;34m\u001b[0m\u001b[0m\n\u001b[0m",
      "\u001b[0;32m/Users/randy/anaconda/envs/play/lib/python3.6/site-packages/matplotlib/pyplot.py\u001b[0m in \u001b[0;36merrorbar\u001b[0;34m(x, y, yerr, xerr, fmt, ecolor, elinewidth, capsize, barsabove, lolims, uplims, xlolims, xuplims, errorevery, capthick, hold, data, **kwargs)\u001b[0m\n\u001b[1;32m   2927\u001b[0m                           \u001b[0mxlolims\u001b[0m\u001b[0;34m=\u001b[0m\u001b[0mxlolims\u001b[0m\u001b[0;34m,\u001b[0m \u001b[0mxuplims\u001b[0m\u001b[0;34m=\u001b[0m\u001b[0mxuplims\u001b[0m\u001b[0;34m,\u001b[0m\u001b[0;34m\u001b[0m\u001b[0m\n\u001b[1;32m   2928\u001b[0m                           \u001b[0merrorevery\u001b[0m\u001b[0;34m=\u001b[0m\u001b[0merrorevery\u001b[0m\u001b[0;34m,\u001b[0m \u001b[0mcapthick\u001b[0m\u001b[0;34m=\u001b[0m\u001b[0mcapthick\u001b[0m\u001b[0;34m,\u001b[0m \u001b[0mdata\u001b[0m\u001b[0;34m=\u001b[0m\u001b[0mdata\u001b[0m\u001b[0;34m,\u001b[0m\u001b[0;34m\u001b[0m\u001b[0m\n\u001b[0;32m-> 2929\u001b[0;31m                           **kwargs)\n\u001b[0m\u001b[1;32m   2930\u001b[0m     \u001b[0;32mfinally\u001b[0m\u001b[0;34m:\u001b[0m\u001b[0;34m\u001b[0m\u001b[0m\n\u001b[1;32m   2931\u001b[0m         \u001b[0max\u001b[0m\u001b[0;34m.\u001b[0m\u001b[0m_hold\u001b[0m \u001b[0;34m=\u001b[0m \u001b[0mwashold\u001b[0m\u001b[0;34m\u001b[0m\u001b[0m\n",
      "\u001b[0;32m/Users/randy/anaconda/envs/play/lib/python3.6/site-packages/matplotlib/__init__.py\u001b[0m in \u001b[0;36minner\u001b[0;34m(ax, *args, **kwargs)\u001b[0m\n\u001b[1;32m   1896\u001b[0m                     warnings.warn(msg % (label_namer, func.__name__),\n\u001b[1;32m   1897\u001b[0m                                   RuntimeWarning, stacklevel=2)\n\u001b[0;32m-> 1898\u001b[0;31m             \u001b[0;32mreturn\u001b[0m \u001b[0mfunc\u001b[0m\u001b[0;34m(\u001b[0m\u001b[0max\u001b[0m\u001b[0;34m,\u001b[0m \u001b[0;34m*\u001b[0m\u001b[0margs\u001b[0m\u001b[0;34m,\u001b[0m \u001b[0;34m**\u001b[0m\u001b[0mkwargs\u001b[0m\u001b[0;34m)\u001b[0m\u001b[0;34m\u001b[0m\u001b[0m\n\u001b[0m\u001b[1;32m   1899\u001b[0m         \u001b[0mpre_doc\u001b[0m \u001b[0;34m=\u001b[0m \u001b[0minner\u001b[0m\u001b[0;34m.\u001b[0m\u001b[0m__doc__\u001b[0m\u001b[0;34m\u001b[0m\u001b[0m\n\u001b[1;32m   1900\u001b[0m         \u001b[0;32mif\u001b[0m \u001b[0mpre_doc\u001b[0m \u001b[0;32mis\u001b[0m \u001b[0;32mNone\u001b[0m\u001b[0;34m:\u001b[0m\u001b[0;34m\u001b[0m\u001b[0m\n",
      "\u001b[0;32m/Users/randy/anaconda/envs/play/lib/python3.6/site-packages/matplotlib/axes/_axes.py\u001b[0m in \u001b[0;36merrorbar\u001b[0;34m(self, x, y, yerr, xerr, fmt, ecolor, elinewidth, capsize, barsabove, lolims, uplims, xlolims, xuplims, errorevery, capthick, **kwargs)\u001b[0m\n\u001b[1;32m   2905\u001b[0m         \u001b[0;32mif\u001b[0m \u001b[0mplot_line\u001b[0m\u001b[0;34m:\u001b[0m\u001b[0;34m\u001b[0m\u001b[0m\n\u001b[1;32m   2906\u001b[0m             \u001b[0mdata_line\u001b[0m \u001b[0;34m=\u001b[0m \u001b[0mmlines\u001b[0m\u001b[0;34m.\u001b[0m\u001b[0mLine2D\u001b[0m\u001b[0;34m(\u001b[0m\u001b[0mx\u001b[0m\u001b[0;34m,\u001b[0m \u001b[0my\u001b[0m\u001b[0;34m,\u001b[0m \u001b[0;34m**\u001b[0m\u001b[0mplot_line_style\u001b[0m\u001b[0;34m)\u001b[0m\u001b[0;34m\u001b[0m\u001b[0m\n\u001b[0;32m-> 2907\u001b[0;31m             \u001b[0mself\u001b[0m\u001b[0;34m.\u001b[0m\u001b[0madd_line\u001b[0m\u001b[0;34m(\u001b[0m\u001b[0mdata_line\u001b[0m\u001b[0;34m)\u001b[0m\u001b[0;34m\u001b[0m\u001b[0m\n\u001b[0m\u001b[1;32m   2908\u001b[0m \u001b[0;34m\u001b[0m\u001b[0m\n\u001b[1;32m   2909\u001b[0m         \u001b[0mbarcols\u001b[0m \u001b[0;34m=\u001b[0m \u001b[0;34m[\u001b[0m\u001b[0;34m]\u001b[0m\u001b[0;34m\u001b[0m\u001b[0m\n",
      "\u001b[0;32m/Users/randy/anaconda/envs/play/lib/python3.6/site-packages/matplotlib/axes/_base.py\u001b[0m in \u001b[0;36madd_line\u001b[0;34m(self, line)\u001b[0m\n\u001b[1;32m   1791\u001b[0m             \u001b[0mline\u001b[0m\u001b[0;34m.\u001b[0m\u001b[0mset_clip_path\u001b[0m\u001b[0;34m(\u001b[0m\u001b[0mself\u001b[0m\u001b[0;34m.\u001b[0m\u001b[0mpatch\u001b[0m\u001b[0;34m)\u001b[0m\u001b[0;34m\u001b[0m\u001b[0m\n\u001b[1;32m   1792\u001b[0m \u001b[0;34m\u001b[0m\u001b[0m\n\u001b[0;32m-> 1793\u001b[0;31m         \u001b[0mself\u001b[0m\u001b[0;34m.\u001b[0m\u001b[0m_update_line_limits\u001b[0m\u001b[0;34m(\u001b[0m\u001b[0mline\u001b[0m\u001b[0;34m)\u001b[0m\u001b[0;34m\u001b[0m\u001b[0m\n\u001b[0m\u001b[1;32m   1794\u001b[0m         \u001b[0;32mif\u001b[0m \u001b[0;32mnot\u001b[0m \u001b[0mline\u001b[0m\u001b[0;34m.\u001b[0m\u001b[0mget_label\u001b[0m\u001b[0;34m(\u001b[0m\u001b[0;34m)\u001b[0m\u001b[0;34m:\u001b[0m\u001b[0;34m\u001b[0m\u001b[0m\n\u001b[1;32m   1795\u001b[0m             \u001b[0mline\u001b[0m\u001b[0;34m.\u001b[0m\u001b[0mset_label\u001b[0m\u001b[0;34m(\u001b[0m\u001b[0;34m'_line%d'\u001b[0m \u001b[0;34m%\u001b[0m \u001b[0mlen\u001b[0m\u001b[0;34m(\u001b[0m\u001b[0mself\u001b[0m\u001b[0;34m.\u001b[0m\u001b[0mlines\u001b[0m\u001b[0;34m)\u001b[0m\u001b[0;34m)\u001b[0m\u001b[0;34m\u001b[0m\u001b[0m\n",
      "\u001b[0;32m/Users/randy/anaconda/envs/play/lib/python3.6/site-packages/matplotlib/axes/_base.py\u001b[0m in \u001b[0;36m_update_line_limits\u001b[0;34m(self, line)\u001b[0m\n\u001b[1;32m   1813\u001b[0m         \u001b[0mFigures\u001b[0m \u001b[0mout\u001b[0m \u001b[0mthe\u001b[0m \u001b[0mdata\u001b[0m \u001b[0mlimit\u001b[0m \u001b[0mof\u001b[0m \u001b[0mthe\u001b[0m \u001b[0mgiven\u001b[0m \u001b[0mline\u001b[0m\u001b[0;34m,\u001b[0m \u001b[0mupdating\u001b[0m \u001b[0mself\u001b[0m\u001b[0;34m.\u001b[0m\u001b[0mdataLim\u001b[0m\u001b[0;34m.\u001b[0m\u001b[0;34m\u001b[0m\u001b[0m\n\u001b[1;32m   1814\u001b[0m         \"\"\"\n\u001b[0;32m-> 1815\u001b[0;31m         \u001b[0mpath\u001b[0m \u001b[0;34m=\u001b[0m \u001b[0mline\u001b[0m\u001b[0;34m.\u001b[0m\u001b[0mget_path\u001b[0m\u001b[0;34m(\u001b[0m\u001b[0;34m)\u001b[0m\u001b[0;34m\u001b[0m\u001b[0m\n\u001b[0m\u001b[1;32m   1816\u001b[0m         \u001b[0;32mif\u001b[0m \u001b[0mpath\u001b[0m\u001b[0;34m.\u001b[0m\u001b[0mvertices\u001b[0m\u001b[0;34m.\u001b[0m\u001b[0msize\u001b[0m \u001b[0;34m==\u001b[0m \u001b[0;36m0\u001b[0m\u001b[0;34m:\u001b[0m\u001b[0;34m\u001b[0m\u001b[0m\n\u001b[1;32m   1817\u001b[0m             \u001b[0;32mreturn\u001b[0m\u001b[0;34m\u001b[0m\u001b[0m\n",
      "\u001b[0;32m/Users/randy/anaconda/envs/play/lib/python3.6/site-packages/matplotlib/lines.py\u001b[0m in \u001b[0;36mget_path\u001b[0;34m(self)\u001b[0m\n\u001b[1;32m    987\u001b[0m         \"\"\"\n\u001b[1;32m    988\u001b[0m         \u001b[0;32mif\u001b[0m \u001b[0mself\u001b[0m\u001b[0;34m.\u001b[0m\u001b[0m_invalidy\u001b[0m \u001b[0;32mor\u001b[0m \u001b[0mself\u001b[0m\u001b[0;34m.\u001b[0m\u001b[0m_invalidx\u001b[0m\u001b[0;34m:\u001b[0m\u001b[0;34m\u001b[0m\u001b[0m\n\u001b[0;32m--> 989\u001b[0;31m             \u001b[0mself\u001b[0m\u001b[0;34m.\u001b[0m\u001b[0mrecache\u001b[0m\u001b[0;34m(\u001b[0m\u001b[0;34m)\u001b[0m\u001b[0;34m\u001b[0m\u001b[0m\n\u001b[0m\u001b[1;32m    990\u001b[0m         \u001b[0;32mreturn\u001b[0m \u001b[0mself\u001b[0m\u001b[0;34m.\u001b[0m\u001b[0m_path\u001b[0m\u001b[0;34m\u001b[0m\u001b[0m\n\u001b[1;32m    991\u001b[0m \u001b[0;34m\u001b[0m\u001b[0m\n",
      "\u001b[0;32m/Users/randy/anaconda/envs/play/lib/python3.6/site-packages/matplotlib/lines.py\u001b[0m in \u001b[0;36mrecache\u001b[0;34m(self, always)\u001b[0m\n\u001b[1;32m    683\u001b[0m                 \u001b[0my\u001b[0m \u001b[0;34m=\u001b[0m \u001b[0mma\u001b[0m\u001b[0;34m.\u001b[0m\u001b[0masarray\u001b[0m\u001b[0;34m(\u001b[0m\u001b[0myconv\u001b[0m\u001b[0;34m,\u001b[0m \u001b[0mnp\u001b[0m\u001b[0;34m.\u001b[0m\u001b[0mfloat_\u001b[0m\u001b[0;34m)\u001b[0m\u001b[0;34m.\u001b[0m\u001b[0mfilled\u001b[0m\u001b[0;34m(\u001b[0m\u001b[0mnp\u001b[0m\u001b[0;34m.\u001b[0m\u001b[0mnan\u001b[0m\u001b[0;34m)\u001b[0m\u001b[0;34m\u001b[0m\u001b[0m\n\u001b[1;32m    684\u001b[0m             \u001b[0;32melse\u001b[0m\u001b[0;34m:\u001b[0m\u001b[0;34m\u001b[0m\u001b[0m\n\u001b[0;32m--> 685\u001b[0;31m                 \u001b[0my\u001b[0m \u001b[0;34m=\u001b[0m \u001b[0mnp\u001b[0m\u001b[0;34m.\u001b[0m\u001b[0masarray\u001b[0m\u001b[0;34m(\u001b[0m\u001b[0myconv\u001b[0m\u001b[0;34m,\u001b[0m \u001b[0mnp\u001b[0m\u001b[0;34m.\u001b[0m\u001b[0mfloat_\u001b[0m\u001b[0;34m)\u001b[0m\u001b[0;34m\u001b[0m\u001b[0m\n\u001b[0m\u001b[1;32m    686\u001b[0m             \u001b[0my\u001b[0m \u001b[0;34m=\u001b[0m \u001b[0my\u001b[0m\u001b[0;34m.\u001b[0m\u001b[0mravel\u001b[0m\u001b[0;34m(\u001b[0m\u001b[0;34m)\u001b[0m\u001b[0;34m\u001b[0m\u001b[0m\n\u001b[1;32m    687\u001b[0m         \u001b[0;32melse\u001b[0m\u001b[0;34m:\u001b[0m\u001b[0;34m\u001b[0m\u001b[0m\n",
      "\u001b[0;32m/Users/randy/anaconda/envs/play/lib/python3.6/site-packages/numpy/core/numeric.py\u001b[0m in \u001b[0;36masarray\u001b[0;34m(a, dtype, order)\u001b[0m\n\u001b[1;32m    529\u001b[0m \u001b[0;34m\u001b[0m\u001b[0m\n\u001b[1;32m    530\u001b[0m     \"\"\"\n\u001b[0;32m--> 531\u001b[0;31m     \u001b[0;32mreturn\u001b[0m \u001b[0marray\u001b[0m\u001b[0;34m(\u001b[0m\u001b[0ma\u001b[0m\u001b[0;34m,\u001b[0m \u001b[0mdtype\u001b[0m\u001b[0;34m,\u001b[0m \u001b[0mcopy\u001b[0m\u001b[0;34m=\u001b[0m\u001b[0;32mFalse\u001b[0m\u001b[0;34m,\u001b[0m \u001b[0morder\u001b[0m\u001b[0;34m=\u001b[0m\u001b[0morder\u001b[0m\u001b[0;34m)\u001b[0m\u001b[0;34m\u001b[0m\u001b[0m\n\u001b[0m\u001b[1;32m    532\u001b[0m \u001b[0;34m\u001b[0m\u001b[0m\n\u001b[1;32m    533\u001b[0m \u001b[0;34m\u001b[0m\u001b[0m\n",
      "\u001b[0;31mValueError\u001b[0m: could not convert string to float: 'videos'"
     ]
    },
    {
     "data": {
      "image/png": "[encoded data removed]",
      "text/plain": [
       "<matplotlib.figure.Figure at 0x128c0f198>"
      ]
     },
     "metadata": {},
     "output_type": "display_data"
    }
   ],
   "source": [
    "#ax = sns.pointplot(x=\"wd_ct_nostop\", y=plt_this['avg'].index, data=df_grp, join=False)\n",
    "plt.errorbar(plt_this['avg'], plt_this.index, xerr=1, fmt='o')\n"
   ]
  },
  {
   "cell_type": "code",
   "execution_count": null,
   "metadata": {
    "collapsed": true
   },
   "outputs": [],
   "source": []
  }
 ],
 "metadata": {
  "celltoolbar": "Tags",
  "kernelspec": {
   "display_name": "Python 3",
   "language": "python",
   "name": "python3"
  },
  "language_info": {
   "codemirror_mode": {
    "name": "ipython",
    "version": 3
   },
   "file_extension": ".py",
   "mimetype": "text/x-python",
   "name": "python",
   "nbconvert_exporter": "python",
   "pygments_lexer": "ipython3",
   "version": "3.6.1"
  }
 },
 "nbformat": 4,
 "nbformat_minor": 2
}
