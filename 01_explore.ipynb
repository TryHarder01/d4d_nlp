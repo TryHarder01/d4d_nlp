{
 "cells": [
  {
   "cell_type": "markdown",
   "metadata": {},
   "source": [
    "## imports"
   ]
  },
  {
   "cell_type": "code",
   "execution_count": 100,
   "metadata": {},
   "outputs": [
    {
     "name": "stderr",
     "output_type": "stream",
     "text": [
      "/Users/randy/anaconda/envs/play/lib/python3.6/site-packages/IPython/html.py:14: ShimWarning: The `IPython.html` package has been deprecated since IPython 4.0. You should import from `notebook` instead. `IPython.html.widgets` has moved to `ipywidgets`.\n",
      "  \"`IPython.html.widgets` has moved to `ipywidgets`.\", ShimWarning)\n"
     ]
    }
   ],
   "source": [
    "import pandas as pd\n",
    "import numpy as np\n",
    "import matplotlib.pyplot as plt\n",
    "import seaborn as sns\n",
    "%matplotlib inline"
   ]
  },
  {
   "cell_type": "markdown",
   "metadata": {},
   "source": [
    "## data pull"
   ]
  },
  {
   "cell_type": "code",
   "execution_count": 2,
   "metadata": {
    "collapsed": true
   },
   "outputs": [],
   "source": [
    "# You will need access to D4D data.world organization. Check in slack for more info\n",
    "# 150mb / 240k rows. Give it time, has to download over internet\n",
    "df = pd.read_csv('https://query.data.world/s/bbokc1f08to11j19j5axvkrcv', sep='\\t', parse_dates=['date'])"
   ]
  },
  {
   "cell_type": "markdown",
   "metadata": {},
   "source": [
    "## exploring data"
   ]
  },
  {
   "cell_type": "code",
   "execution_count": 5,
   "metadata": {},
   "outputs": [
    {
     "data": {
      "text/html": [
       "<div>\n",
       "<style>\n",
       "    .dataframe thead tr:only-child th {\n",
       "        text-align: right;\n",
       "    }\n",
       "\n",
       "    .dataframe thead th {\n",
       "        text-align: left;\n",
       "    }\n",
       "\n",
       "    .dataframe tbody tr th {\n",
       "        vertical-align: top;\n",
       "    }\n",
       "</style>\n",
       "<table border=\"1\" class=\"dataframe\">\n",
       "  <thead>\n",
       "    <tr style=\"text-align: right;\">\n",
       "      <th></th>\n",
       "      <th>date</th>\n",
       "      <th>author</th>\n",
       "      <th>title</th>\n",
       "      <th>lead</th>\n",
       "      <th>category</th>\n",
       "      <th>hrefs</th>\n",
       "    </tr>\n",
       "  </thead>\n",
       "  <tbody>\n",
       "    <tr>\n",
       "      <th>0</th>\n",
       "      <td>2016-12-30 16:05:19</td>\n",
       "      <td>Pam Key</td>\n",
       "      <td>Bolton: Putin Is Smart</td>\n",
       "      <td></td>\n",
       "      <td>california</td>\n",
       "      <td>['https://twitter.com/pamkeyNEN']</td>\n",
       "    </tr>\n",
       "    <tr>\n",
       "      <th>1</th>\n",
       "      <td>2016-12-31 08:02:52</td>\n",
       "      <td>Ian Hanchett</td>\n",
       "      <td>Obama: ‘We’ve Made Extraordinary Progress’ Ove...</td>\n",
       "      <td></td>\n",
       "      <td>california</td>\n",
       "      <td>['https://twitter.com/IanHanchett']</td>\n",
       "    </tr>\n",
       "    <tr>\n",
       "      <th>2</th>\n",
       "      <td>2016-12-30 12:06:10</td>\n",
       "      <td>Ian Hanchett</td>\n",
       "      <td>Dem Rep Schiff: Obama Waited Too Long to Take ...</td>\n",
       "      <td></td>\n",
       "      <td>california</td>\n",
       "      <td>['https://grabien.com/story.php?id=80835', 'ht...</td>\n",
       "    </tr>\n",
       "    <tr>\n",
       "      <th>3</th>\n",
       "      <td>2016-12-27 13:08:19</td>\n",
       "      <td>Adelle Nazarian</td>\n",
       "      <td>CA Universities Named Among ‘Worst Colleges fo...</td>\n",
       "      <td>Nine out of the 40 colleges named in a Jewish ...</td>\n",
       "      <td>california</td>\n",
       "      <td>['https://www.algemeiner.com/the-40-worst-coll...</td>\n",
       "    </tr>\n",
       "    <tr>\n",
       "      <th>4</th>\n",
       "      <td>2016-12-28 05:59:27</td>\n",
       "      <td>Joel B. Pollak</td>\n",
       "      <td>Water-Starved Central Valley Says ‘Good Riddan...</td>\n",
       "      <td>Sen. Barbara Boxer (D-CA) is retiring after 24...</td>\n",
       "      <td>california</td>\n",
       "      <td>['http://www.fresnobee.com/news/politics-gover...</td>\n",
       "    </tr>\n",
       "  </tbody>\n",
       "</table>\n",
       "</div>"
      ],
      "text/plain": [
       "                 date           author  \\\n",
       "0 2016-12-30 16:05:19          Pam Key   \n",
       "1 2016-12-31 08:02:52     Ian Hanchett   \n",
       "2 2016-12-30 12:06:10     Ian Hanchett   \n",
       "3 2016-12-27 13:08:19  Adelle Nazarian   \n",
       "4 2016-12-28 05:59:27   Joel B. Pollak   \n",
       "\n",
       "                                               title  \\\n",
       "0                             Bolton: Putin Is Smart   \n",
       "1  Obama: ‘We’ve Made Extraordinary Progress’ Ove...   \n",
       "2  Dem Rep Schiff: Obama Waited Too Long to Take ...   \n",
       "3  CA Universities Named Among ‘Worst Colleges fo...   \n",
       "4  Water-Starved Central Valley Says ‘Good Riddan...   \n",
       "\n",
       "                                                lead    category  \\\n",
       "0                                                     california   \n",
       "1                                                     california   \n",
       "2                                                     california   \n",
       "3  Nine out of the 40 colleges named in a Jewish ...  california   \n",
       "4  Sen. Barbara Boxer (D-CA) is retiring after 24...  california   \n",
       "\n",
       "                                               hrefs  \n",
       "0                  ['https://twitter.com/pamkeyNEN']  \n",
       "1                ['https://twitter.com/IanHanchett']  \n",
       "2  ['https://grabien.com/story.php?id=80835', 'ht...  \n",
       "3  ['https://www.algemeiner.com/the-40-worst-coll...  \n",
       "4  ['http://www.fresnobee.com/news/politics-gover...  "
      ]
     },
     "execution_count": 5,
     "metadata": {},
     "output_type": "execute_result"
    }
   ],
   "source": [
    "df.head()"
   ]
  },
  {
   "cell_type": "code",
   "execution_count": 101,
   "metadata": {
    "collapsed": true
   },
   "outputs": [],
   "source": [
    "df_sample = df.copy().head(10000)"
   ]
  },
  {
   "cell_type": "code",
   "execution_count": 102,
   "metadata": {},
   "outputs": [
    {
     "data": {
      "text/plain": [
       "date                                      2016-12-29 00:01:14\n",
       "author                               Assemblyman Tim Donnelly\n",
       "title        Top 10 Stupidest New Laws in California for 2017\n",
       "lead        I’m not in the habit of complaining at the out...\n",
       "category                                           california\n",
       "hrefs       ['http://mynewsla.com/government/2016/12/27/ce...\n",
       "Name: 10, dtype: object"
      ]
     },
     "execution_count": 102,
     "metadata": {},
     "output_type": "execute_result"
    }
   ],
   "source": [
    "df_sample.iloc[10,:]"
   ]
  },
  {
   "cell_type": "markdown",
   "metadata": {},
   "source": [
    "### 1. Generate word counts in article leads across the whole datasets (filtering stopwords)\n"
   ]
  },
  {
   "cell_type": "code",
   "execution_count": 103,
   "metadata": {},
   "outputs": [
    {
     "name": "stdout",
     "output_type": "stream",
     "text": [
      "[nltk_data] Downloading package stopwords to /Users/randy/nltk_data...\n",
      "[nltk_data]   Package stopwords is already up-to-date!\n"
     ]
    },
    {
     "data": {
      "text/plain": [
       "True"
      ]
     },
     "execution_count": 103,
     "metadata": {},
     "output_type": "execute_result"
    }
   ],
   "source": [
    "from nltk.corpus import stopwords\n",
    "from nltk import download\n",
    "download(\"stopwords\")"
   ]
  },
  {
   "cell_type": "code",
   "execution_count": 104,
   "metadata": {},
   "outputs": [],
   "source": [
    "# create a test lead and test word to try out a solution\n",
    "test_lead = df_sample.loc[10,'lead']\n",
    "test_array = np.array(test_lead.split())\n"
   ]
  },
  {
   "cell_type": "code",
   "execution_count": 105,
   "metadata": {},
   "outputs": [
    {
     "data": {
      "text/plain": [
       "array([False,  True, False, False, False, False, False, False, False,\n",
       "       False, False, False, False, False, False, False, False, False,\n",
       "       False, False, False, False, False, False, False, False, False,\n",
       "       False, False, False, False, False, False, False, False, False,\n",
       "       False, False, False, False], dtype=bool)"
      ]
     },
     "execution_count": 105,
     "metadata": {},
     "output_type": "execute_result"
    }
   ],
   "source": [
    "test_array == 'not'"
   ]
  },
  {
   "cell_type": "code",
   "execution_count": 106,
   "metadata": {},
   "outputs": [
    {
     "name": "stdout",
     "output_type": "stream",
     "text": [
      "I’m \t\t\t False\n",
      "not \t\t\t True\n",
      "in \t\t\t True\n",
      "the \t\t\t True\n",
      "habit \t\t\t False\n",
      "of \t\t\t True\n",
      "complaining \t\t\t False\n",
      "at \t\t\t True\n",
      "the \t\t\t True\n",
      "outset \t\t\t False\n",
      "of \t\t\t True\n",
      "a \t\t\t True\n",
      "column, \t\t\t False\n",
      "but \t\t\t True\n",
      "I’ve \t\t\t False\n",
      "taken \t\t\t False\n",
      "on \t\t\t True\n",
      "a \t\t\t True\n",
      "nearly \t\t\t False\n",
      "impossible \t\t\t False\n",
      "task \t\t\t False\n",
      "— \t\t\t False\n",
      "figuring \t\t\t False\n",
      "out \t\t\t True\n",
      "which, \t\t\t False\n",
      "of \t\t\t True\n",
      "the \t\t\t True\n",
      "hundreds \t\t\t False\n",
      "of \t\t\t True\n",
      "new \t\t\t False\n",
      "California \t\t\t False\n",
      "laws \t\t\t False\n",
      "about \t\t\t True\n",
      "to \t\t\t True\n",
      "go \t\t\t False\n",
      "into \t\t\t True\n",
      "effect, \t\t\t False\n",
      "are \t\t\t True\n",
      "the \t\t\t True\n",
      "stupidest. \t\t\t False\n"
     ]
    }
   ],
   "source": [
    "for word in test_array:\n",
    "    print(\"{} \\t\\t\\t {}\".format(word, word in stopwords.words('english')))"
   ]
  },
  {
   "cell_type": "code",
   "execution_count": 107,
   "metadata": {},
   "outputs": [
    {
     "data": {
      "text/plain": [
       "array([False,  True,  True,  True, False,  True, False,  True,  True,\n",
       "       False,  True,  True, False,  True, False, False,  True,  True,\n",
       "       False, False, False, False, False,  True, False,  True,  True,\n",
       "       False,  True, False, False, False,  True,  True, False,  True,\n",
       "       False,  True,  True, False], dtype=bool)"
      ]
     },
     "execution_count": 107,
     "metadata": {},
     "output_type": "execute_result"
    }
   ],
   "source": [
    "np.in1d(test_array, stopwords.words('english'))"
   ]
  },
  {
   "cell_type": "code",
   "execution_count": 108,
   "metadata": {},
   "outputs": [
    {
     "data": {
      "text/plain": [
       "20"
      ]
     },
     "execution_count": 108,
     "metadata": {},
     "output_type": "execute_result"
    }
   ],
   "source": [
    "sum(np.in1d(test_array, stopwords.words('english')))"
   ]
  },
  {
   "cell_type": "code",
   "execution_count": 109,
   "metadata": {},
   "outputs": [],
   "source": [
    "## create a function\n",
    "\n",
    "def wd_ct(lead):\n",
    "    lead_array = np.array(lead.split())\n",
    "    wd_ct_wo_stopwords = sum(np.in1d(lead_array, stopwords.words('english')))\n",
    "    return(wd_ct_wo_stopwords)"
   ]
  },
  {
   "cell_type": "code",
   "execution_count": 110,
   "metadata": {},
   "outputs": [
    {
     "data": {
      "text/plain": [
       "20"
      ]
     },
     "execution_count": 110,
     "metadata": {},
     "output_type": "execute_result"
    }
   ],
   "source": [
    "wd_ct(test_lead)"
   ]
  },
  {
   "cell_type": "markdown",
   "metadata": {},
   "source": [
    "## use apply function for DF\n"
   ]
  },
  {
   "cell_type": "code",
   "execution_count": 111,
   "metadata": {},
   "outputs": [],
   "source": [
    "df_sample['wd_ct_nostop'] = df_sample['lead'].apply(wd_ct)"
   ]
  },
  {
   "cell_type": "code",
   "execution_count": 112,
   "metadata": {},
   "outputs": [
    {
     "data": {
      "text/html": [
       "<div>\n",
       "<style>\n",
       "    .dataframe thead tr:only-child th {\n",
       "        text-align: right;\n",
       "    }\n",
       "\n",
       "    .dataframe thead th {\n",
       "        text-align: left;\n",
       "    }\n",
       "\n",
       "    .dataframe tbody tr th {\n",
       "        vertical-align: top;\n",
       "    }\n",
       "</style>\n",
       "<table border=\"1\" class=\"dataframe\">\n",
       "  <thead>\n",
       "    <tr style=\"text-align: right;\">\n",
       "      <th></th>\n",
       "      <th>date</th>\n",
       "      <th>author</th>\n",
       "      <th>title</th>\n",
       "      <th>lead</th>\n",
       "      <th>category</th>\n",
       "      <th>hrefs</th>\n",
       "      <th>wd_ct_nostop</th>\n",
       "    </tr>\n",
       "  </thead>\n",
       "  <tbody>\n",
       "    <tr>\n",
       "      <th>0</th>\n",
       "      <td>2016-12-30 16:05:19</td>\n",
       "      <td>Pam Key</td>\n",
       "      <td>Bolton: Putin Is Smart</td>\n",
       "      <td></td>\n",
       "      <td>california</td>\n",
       "      <td>['https://twitter.com/pamkeyNEN']</td>\n",
       "      <td>0</td>\n",
       "    </tr>\n",
       "    <tr>\n",
       "      <th>1</th>\n",
       "      <td>2016-12-31 08:02:52</td>\n",
       "      <td>Ian Hanchett</td>\n",
       "      <td>Obama: ‘We’ve Made Extraordinary Progress’ Ove...</td>\n",
       "      <td></td>\n",
       "      <td>california</td>\n",
       "      <td>['https://twitter.com/IanHanchett']</td>\n",
       "      <td>0</td>\n",
       "    </tr>\n",
       "    <tr>\n",
       "      <th>2</th>\n",
       "      <td>2016-12-30 12:06:10</td>\n",
       "      <td>Ian Hanchett</td>\n",
       "      <td>Dem Rep Schiff: Obama Waited Too Long to Take ...</td>\n",
       "      <td></td>\n",
       "      <td>california</td>\n",
       "      <td>['https://grabien.com/story.php?id=80835', 'ht...</td>\n",
       "      <td>0</td>\n",
       "    </tr>\n",
       "    <tr>\n",
       "      <th>3</th>\n",
       "      <td>2016-12-27 13:08:19</td>\n",
       "      <td>Adelle Nazarian</td>\n",
       "      <td>CA Universities Named Among ‘Worst Colleges fo...</td>\n",
       "      <td>Nine out of the 40 colleges named in a Jewish ...</td>\n",
       "      <td>california</td>\n",
       "      <td>['https://www.algemeiner.com/the-40-worst-coll...</td>\n",
       "      <td>12</td>\n",
       "    </tr>\n",
       "    <tr>\n",
       "      <th>4</th>\n",
       "      <td>2016-12-28 05:59:27</td>\n",
       "      <td>Joel B. Pollak</td>\n",
       "      <td>Water-Starved Central Valley Says ‘Good Riddan...</td>\n",
       "      <td>Sen. Barbara Boxer (D-CA) is retiring after 24...</td>\n",
       "      <td>california</td>\n",
       "      <td>['http://www.fresnobee.com/news/politics-gover...</td>\n",
       "      <td>17</td>\n",
       "    </tr>\n",
       "  </tbody>\n",
       "</table>\n",
       "</div>"
      ],
      "text/plain": [
       "                 date           author  \\\n",
       "0 2016-12-30 16:05:19          Pam Key   \n",
       "1 2016-12-31 08:02:52     Ian Hanchett   \n",
       "2 2016-12-30 12:06:10     Ian Hanchett   \n",
       "3 2016-12-27 13:08:19  Adelle Nazarian   \n",
       "4 2016-12-28 05:59:27   Joel B. Pollak   \n",
       "\n",
       "                                               title  \\\n",
       "0                             Bolton: Putin Is Smart   \n",
       "1  Obama: ‘We’ve Made Extraordinary Progress’ Ove...   \n",
       "2  Dem Rep Schiff: Obama Waited Too Long to Take ...   \n",
       "3  CA Universities Named Among ‘Worst Colleges fo...   \n",
       "4  Water-Starved Central Valley Says ‘Good Riddan...   \n",
       "\n",
       "                                                lead    category  \\\n",
       "0                                                     california   \n",
       "1                                                     california   \n",
       "2                                                     california   \n",
       "3  Nine out of the 40 colleges named in a Jewish ...  california   \n",
       "4  Sen. Barbara Boxer (D-CA) is retiring after 24...  california   \n",
       "\n",
       "                                               hrefs  wd_ct_nostop  \n",
       "0                  ['https://twitter.com/pamkeyNEN']             0  \n",
       "1                ['https://twitter.com/IanHanchett']             0  \n",
       "2  ['https://grabien.com/story.php?id=80835', 'ht...             0  \n",
       "3  ['https://www.algemeiner.com/the-40-worst-coll...            12  \n",
       "4  ['http://www.fresnobee.com/news/politics-gover...            17  "
      ]
     },
     "execution_count": 112,
     "metadata": {},
     "output_type": "execute_result"
    }
   ],
   "source": [
    "df_sample.head()"
   ]
  },
  {
   "cell_type": "code",
   "execution_count": 128,
   "metadata": {},
   "outputs": [
    {
     "data": {
      "text/plain": [
       "Adelle Nazarian     1549\n",
       "Joel B. Pollak      1339\n",
       "Chriss W. Street    1207\n",
       "William Bigelow     1200\n",
       "Michelle Moons       976\n",
       "Name: author, dtype: int64"
      ]
     },
     "execution_count": 128,
     "metadata": {},
     "output_type": "execute_result"
    }
   ],
   "source": [
    "# most frequent authors\n",
    "df_sample['author'].value_counts().head()"
   ]
  },
  {
   "cell_type": "code",
   "execution_count": 123,
   "metadata": {},
   "outputs": [
    {
     "data": {
      "image/png": "[encoded data removed]",
      "text/plain": [
       "<matplotlib.figure.Figure at 0x12e43b198>"
      ]
     },
     "metadata": {},
     "output_type": "display_data"
    }
   ],
   "source": [
    "plt.figure(figsize=(16,6))\n",
    "sns.distplot(df_sample['wd_ct_nostop'], hist=False, rug=True);"
   ]
  },
  {
   "cell_type": "code",
   "execution_count": 122,
   "metadata": {},
   "outputs": [
    {
     "data": {
      "image/png": "[encoded data removed]",
      "text/plain": [
       "<matplotlib.figure.Figure at 0x12f43cac8>"
      ]
     },
     "metadata": {},
     "output_type": "display_data"
    }
   ],
   "source": [
    "plt.figure(figsize=(16,6))\n",
    "plt.hist(df_sample['wd_ct_nostop'], bins=[0,5,10,15,20,25,30,35])\n",
    "plt.show()"
   ]
  },
  {
   "cell_type": "code",
   "execution_count": 137,
   "metadata": {},
   "outputs": [
    {
     "data": {
      "image/png": "[encoded data removed]",
      "text/plain": [
       "<matplotlib.figure.Figure at 0x11c3a7e80>"
      ]
     },
     "metadata": {},
     "output_type": "display_data"
    }
   ],
   "source": [
    "plt.figure(figsize=(16,6))\n",
    "plt.hist(df_sample[df_sample['author'] == 'Adelle Nazarian']['wd_ct_nostop'], bins=[0,5,10,15,20,25,30,35], color='blue', alpha=.3, label='Adelle Nazarian')\n",
    "plt.hist(df_sample[df_sample['author'] == 'Joel B. Pollak']['wd_ct_nostop'], bins=[0,5,10,15,20,25,30,35], color='red', alpha=.3, label='Joel B. Pollak')\n",
    "plt.hist(df_sample[df_sample['author'] == 'Chriss W. Street']['wd_ct_nostop'], bins=[0,5,10,15,20,25,30,35], color='green', alpha=.3, label='Chriss W. Street')\n",
    "plt.hist(df_sample[df_sample['author'] == 'William Bigelow']['wd_ct_nostop'], bins=[0,5,10,15,20,25,30,35], color='black', alpha=.3, label='William Bigelow')\n",
    "plt.legend()\n",
    "plt.title('Dist of 4 most frequent authors lead word count)\n",
    "plt.show()"
   ]
  },
  {
   "cell_type": "code",
   "execution_count": 141,
   "metadata": {},
   "outputs": [
    {
     "data": {
      "image/png": "[encoded data removed]",
      "text/plain": [
       "<matplotlib.figure.Figure at 0x12f629710>"
      ]
     },
     "metadata": {},
     "output_type": "display_data"
    }
   ],
   "source": [
    "plt.figure(figsize=(16,6))\n",
    "plt.hist(df_sample[df_sample['author'] == 'Adelle Nazarian']['wd_ct_nostop'], bins=[0,5,10,15,20,25,30,35], color='blue', alpha=.2, label='Adelle Nazarian', normed=True)\n",
    "plt.hist(df_sample[df_sample['author'] == 'Joel B. Pollak']['wd_ct_nostop'], bins=[0,5,10,15,20,25,30,35], color='red', alpha=.2, label='Joel B. Pollak', normed=True)\n",
    "plt.hist(df_sample[df_sample['author'] == 'Chriss W. Street']['wd_ct_nostop'], bins=[0,5,10,15,20,25,30,35], color='green', alpha=.2, label='Chriss W. Street', normed=True)\n",
    "plt.hist(df_sample[df_sample['author'] == 'William Bigelow']['wd_ct_nostop'], bins=[0,5,10,15,20,25,30,35], color='black', alpha=.2, label='William Bigelow', normed=True)\n",
    "plt.legend()\n",
    "plt.title('Dist of 4 most frequent authors lead word count as pct dist')\n",
    "plt.show()"
   ]
  },
  {
   "cell_type": "code",
   "execution_count": null,
   "metadata": {
    "collapsed": true
   },
   "outputs": [],
   "source": [
    "plt.figure(figsize=(16,6))\n",
    "plt.hist(df_sample[]['wd_ct_nostop'], bins=[0,5,10,15,20,25,30,35])\n",
    "plt.show()"
   ]
  }
 ],
 "metadata": {
  "kernelspec": {
   "display_name": "Python 3",
   "language": "python",
   "name": "python3"
  },
  "language_info": {
   "codemirror_mode": {
    "name": "ipython",
    "version": 3
   },
   "file_extension": ".py",
   "mimetype": "text/x-python",
   "name": "python",
   "nbconvert_exporter": "python",
   "pygments_lexer": "ipython3",
   "version": "3.6.1"
  }
 },
 "nbformat": 4,
 "nbformat_minor": 2
}
