{
 "cells": [
  {
   "cell_type": "markdown",
   "metadata": {},
   "source": [
    "## imports"
   ]
  },
  {
   "cell_type": "code",
   "execution_count": 4,
   "metadata": {
    "collapsed": true
   },
   "outputs": [],
   "source": [
    "import pandas as pd\n",
    "import numpy as np\n"
   ]
  },
  {
   "cell_type": "markdown",
   "metadata": {},
   "source": [
    "## data pull"
   ]
  },
  {
   "cell_type": "code",
   "execution_count": 2,
   "metadata": {
    "collapsed": true
   },
   "outputs": [],
   "source": [
    "# You will need access to D4D data.world organization. Check in slack for more info\n",
    "# 150mb / 240k rows. Give it time, has to download over internet\n",
    "df = pd.read_csv('https://query.data.world/s/bbokc1f08to11j19j5axvkrcv', sep='\\t', parse_dates=['date'])"
   ]
  },
  {
   "cell_type": "markdown",
   "metadata": {},
   "source": [
    "## exploring data"
   ]
  },
  {
   "cell_type": "code",
   "execution_count": 5,
   "metadata": {},
   "outputs": [
    {
     "data": {
      "text/html": [
       "<div>\n",
       "<style>\n",
       "    .dataframe thead tr:only-child th {\n",
       "        text-align: right;\n",
       "    }\n",
       "\n",
       "    .dataframe thead th {\n",
       "        text-align: left;\n",
       "    }\n",
       "\n",
       "    .dataframe tbody tr th {\n",
       "        vertical-align: top;\n",
       "    }\n",
       "</style>\n",
       "<table border=\"1\" class=\"dataframe\">\n",
       "  <thead>\n",
       "    <tr style=\"text-align: right;\">\n",
       "      <th></th>\n",
       "      <th>date</th>\n",
       "      <th>author</th>\n",
       "      <th>title</th>\n",
       "      <th>lead</th>\n",
       "      <th>category</th>\n",
       "      <th>hrefs</th>\n",
       "    </tr>\n",
       "  </thead>\n",
       "  <tbody>\n",
       "    <tr>\n",
       "      <th>0</th>\n",
       "      <td>2016-12-30 16:05:19</td>\n",
       "      <td>Pam Key</td>\n",
       "      <td>Bolton: Putin Is Smart</td>\n",
       "      <td></td>\n",
       "      <td>california</td>\n",
       "      <td>['https://twitter.com/pamkeyNEN']</td>\n",
       "    </tr>\n",
       "    <tr>\n",
       "      <th>1</th>\n",
       "      <td>2016-12-31 08:02:52</td>\n",
       "      <td>Ian Hanchett</td>\n",
       "      <td>Obama: ‘We’ve Made Extraordinary Progress’ Ove...</td>\n",
       "      <td></td>\n",
       "      <td>california</td>\n",
       "      <td>['https://twitter.com/IanHanchett']</td>\n",
       "    </tr>\n",
       "    <tr>\n",
       "      <th>2</th>\n",
       "      <td>2016-12-30 12:06:10</td>\n",
       "      <td>Ian Hanchett</td>\n",
       "      <td>Dem Rep Schiff: Obama Waited Too Long to Take ...</td>\n",
       "      <td></td>\n",
       "      <td>california</td>\n",
       "      <td>['https://grabien.com/story.php?id=80835', 'ht...</td>\n",
       "    </tr>\n",
       "    <tr>\n",
       "      <th>3</th>\n",
       "      <td>2016-12-27 13:08:19</td>\n",
       "      <td>Adelle Nazarian</td>\n",
       "      <td>CA Universities Named Among ‘Worst Colleges fo...</td>\n",
       "      <td>Nine out of the 40 colleges named in a Jewish ...</td>\n",
       "      <td>california</td>\n",
       "      <td>['https://www.algemeiner.com/the-40-worst-coll...</td>\n",
       "    </tr>\n",
       "    <tr>\n",
       "      <th>4</th>\n",
       "      <td>2016-12-28 05:59:27</td>\n",
       "      <td>Joel B. Pollak</td>\n",
       "      <td>Water-Starved Central Valley Says ‘Good Riddan...</td>\n",
       "      <td>Sen. Barbara Boxer (D-CA) is retiring after 24...</td>\n",
       "      <td>california</td>\n",
       "      <td>['http://www.fresnobee.com/news/politics-gover...</td>\n",
       "    </tr>\n",
       "  </tbody>\n",
       "</table>\n",
       "</div>"
      ],
      "text/plain": [
       "                 date           author  \\\n",
       "0 2016-12-30 16:05:19          Pam Key   \n",
       "1 2016-12-31 08:02:52     Ian Hanchett   \n",
       "2 2016-12-30 12:06:10     Ian Hanchett   \n",
       "3 2016-12-27 13:08:19  Adelle Nazarian   \n",
       "4 2016-12-28 05:59:27   Joel B. Pollak   \n",
       "\n",
       "                                               title  \\\n",
       "0                             Bolton: Putin Is Smart   \n",
       "1  Obama: ‘We’ve Made Extraordinary Progress’ Ove...   \n",
       "2  Dem Rep Schiff: Obama Waited Too Long to Take ...   \n",
       "3  CA Universities Named Among ‘Worst Colleges fo...   \n",
       "4  Water-Starved Central Valley Says ‘Good Riddan...   \n",
       "\n",
       "                                                lead    category  \\\n",
       "0                                                     california   \n",
       "1                                                     california   \n",
       "2                                                     california   \n",
       "3  Nine out of the 40 colleges named in a Jewish ...  california   \n",
       "4  Sen. Barbara Boxer (D-CA) is retiring after 24...  california   \n",
       "\n",
       "                                               hrefs  \n",
       "0                  ['https://twitter.com/pamkeyNEN']  \n",
       "1                ['https://twitter.com/IanHanchett']  \n",
       "2  ['https://grabien.com/story.php?id=80835', 'ht...  \n",
       "3  ['https://www.algemeiner.com/the-40-worst-coll...  \n",
       "4  ['http://www.fresnobee.com/news/politics-gover...  "
      ]
     },
     "execution_count": 5,
     "metadata": {},
     "output_type": "execute_result"
    }
   ],
   "source": [
    "df.head()"
   ]
  },
  {
   "cell_type": "code",
   "execution_count": 19,
   "metadata": {},
   "outputs": [
    {
     "data": {
      "text/plain": [
       "date                                      2016-12-29 00:01:14\n",
       "author                               Assemblyman Tim Donnelly\n",
       "title        Top 10 Stupidest New Laws in California for 2017\n",
       "lead        I’m not in the habit of complaining at the out...\n",
       "category                                           california\n",
       "hrefs       ['http://mynewsla.com/government/2016/12/27/ce...\n",
       "Name: 10, dtype: object"
      ]
     },
     "execution_count": 19,
     "metadata": {},
     "output_type": "execute_result"
    }
   ],
   "source": [
    "df.iloc[10,:]"
   ]
  },
  {
   "cell_type": "markdown",
   "metadata": {},
   "source": [
    "### 1. Generate word counts in article leads across the whole datasets (filtering stopwords)\n"
   ]
  },
  {
   "cell_type": "code",
   "execution_count": 13,
   "metadata": {},
   "outputs": [
    {
     "name": "stdout",
     "output_type": "stream",
     "text": [
      "[nltk_data] Downloading package stopwords to /Users/randy/nltk_data...\n",
      "[nltk_data]   Unzipping corpora/stopwords.zip.\n"
     ]
    },
    {
     "data": {
      "text/plain": [
       "True"
      ]
     },
     "execution_count": 13,
     "metadata": {},
     "output_type": "execute_result"
    }
   ],
   "source": [
    "from nltk.corpus import stopwords\n",
    "from nltk import download\n",
    "download(\"stopwords\")"
   ]
  },
  {
   "cell_type": "code",
   "execution_count": 21,
   "metadata": {
    "collapsed": true
   },
   "outputs": [],
   "source": [
    "from collections import Counter\n"
   ]
  },
  {
   "cell_type": "code",
   "execution_count": 22,
   "metadata": {},
   "outputs": [],
   "source": [
    "#stopwords.words('english')\n",
    "def wd_ct(lead):\n",
    "    print(lead)\n",
    "    filtered_words = [word for word in word_list if word not in stopwords.words('english')]\n",
    "    wordcount = Counter(lead.split())\n",
    "    \n",
    "    return wordcount\n",
    "    "
   ]
  },
  {
   "cell_type": "code",
   "execution_count": null,
   "metadata": {
    "collapsed": true
   },
   "outputs": [],
   "source": []
  },
  {
   "cell_type": "code",
   "execution_count": null,
   "metadata": {
    "collapsed": true
   },
   "outputs": [],
   "source": [
    "filtered_words = [word for word in word_list if word not in stopwords.words('english')]\n"
   ]
  },
  {
   "cell_type": "code",
   "execution_count": 23,
   "metadata": {},
   "outputs": [
    {
     "name": "stdout",
     "output_type": "stream",
     "text": [
      "I’m not in the habit of complaining at the outset of a column, but I’ve taken on a nearly impossible task — figuring out which, of the hundreds of new California laws about to go into effect, are the stupidest.\n"
     ]
    },
    {
     "data": {
      "text/plain": [
       "Counter({'California': 1,\n",
       "         'I’m': 1,\n",
       "         'I’ve': 1,\n",
       "         'a': 2,\n",
       "         'about': 1,\n",
       "         'are': 1,\n",
       "         'at': 1,\n",
       "         'but': 1,\n",
       "         'column,': 1,\n",
       "         'complaining': 1,\n",
       "         'effect,': 1,\n",
       "         'figuring': 1,\n",
       "         'go': 1,\n",
       "         'habit': 1,\n",
       "         'hundreds': 1,\n",
       "         'impossible': 1,\n",
       "         'in': 1,\n",
       "         'into': 1,\n",
       "         'laws': 1,\n",
       "         'nearly': 1,\n",
       "         'new': 1,\n",
       "         'not': 1,\n",
       "         'of': 4,\n",
       "         'on': 1,\n",
       "         'out': 1,\n",
       "         'outset': 1,\n",
       "         'stupidest.': 1,\n",
       "         'taken': 1,\n",
       "         'task': 1,\n",
       "         'the': 4,\n",
       "         'to': 1,\n",
       "         'which,': 1,\n",
       "         '—': 1})"
      ]
     },
     "execution_count": 23,
     "metadata": {},
     "output_type": "execute_result"
    }
   ],
   "source": [
    "wd_ct(df.loc[10, 'lead'])"
   ]
  },
  {
   "cell_type": "code",
   "execution_count": null,
   "metadata": {
    "collapsed": true
   },
   "outputs": [],
   "source": []
  }
 ],
 "metadata": {
  "kernelspec": {
   "display_name": "Python 3",
   "language": "python",
   "name": "python3"
  },
  "language_info": {
   "codemirror_mode": {
    "name": "ipython",
    "version": 3
   },
   "file_extension": ".py",
   "mimetype": "text/x-python",
   "name": "python",
   "nbconvert_exporter": "python",
   "pygments_lexer": "ipython3",
   "version": "3.6.1"
  }
 },
 "nbformat": 4,
 "nbformat_minor": 2
}
